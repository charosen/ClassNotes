{
 "cells": [
  {
   "cell_type": "markdown",
   "metadata": {},
   "source": [
    "## 1. 答案：PCA, Attribute Selection, Wavelet;"
   ]
  },
  {
   "cell_type": "markdown",
   "metadata": {},
   "source": [
    "## 2. 答案：\n",
    "\n",
    "1. \\[0, +inf\\];\n",
    "2. \\[-1, +1\\];\n",
    "3. \\[-1, +1\\];"
   ]
  },
  {
   "cell_type": "code",
   "execution_count": 1,
   "metadata": {},
   "outputs": [
    {
     "name": "stdout",
     "output_type": "stream",
     "text": [
      "数据均值： 29.962962962962962\n",
      "数据方差： 161.29492455418384\n"
     ]
    }
   ],
   "source": [
    "import numpy as np\n",
    "from sklearn import preprocessing\n",
    "\n",
    "# original data set\n",
    "dataset = np.array([[13.], [15.], [16.], [16.], [19.], \n",
    "                    [20.], [20.], [21.], [22.], [22.], \n",
    "                    [25.], [25.], [25.], [25.], [30.], \n",
    "                    [33.], [33.], [35.], [35.], [35.], \n",
    "                    [35.], [36.], [40.], [45.], [46.], \n",
    "                    [52.], [70.]])\n",
    "\n",
    "print('数据均值：', np.mean(dataset))\n",
    "print('数据方差：', np.var(dataset))\n",
    "\n"
   ]
  },
  {
   "cell_type": "markdown",
   "metadata": {},
   "source": [
    "## 3.(a) 答案："
   ]
  },
  {
   "cell_type": "code",
   "execution_count": 25,
   "metadata": {},
   "outputs": [
    {
     "name": "stdout",
     "output_type": "stream",
     "text": [
      "min-max normalized 35 = 0.3859649122807017\n"
     ]
    }
   ],
   "source": [
    "# min-max normalization with range [0. , 1.]\n",
    "minmax_normalized = preprocessing.minmax_scale(dataset)\n",
    "print('min-max normalized 35 =', minmax_normalized[17][0])"
   ]
  },
  {
   "cell_type": "markdown",
   "metadata": {},
   "source": [
    "## 3.(b) 答案："
   ]
  },
  {
   "cell_type": "code",
   "execution_count": 22,
   "metadata": {},
   "outputs": [
    {
     "name": "stdout",
     "output_type": "stream",
     "text": [
      "z-score normalized 35 = 0.3966110348537352\n"
     ]
    }
   ],
   "source": [
    "# z-score normalization with std = 12.94\n",
    "scaler = preprocessing.scale(dataset, with_std=12.94)\n",
    "print('z-score normalized 35 =', scaler[17][0])"
   ]
  },
  {
   "cell_type": "markdown",
   "metadata": {},
   "source": [
    "## 3.(c) 答案：\n",
    "\n",
    "decimal normalized 35 = 0.35"
   ]
  },
  {
   "cell_type": "markdown",
   "metadata": {},
   "source": [
    "## 3.(d) 答案：z-score规范化更好，因为它利用了数据的分布信息；"
   ]
  },
  {
   "cell_type": "code",
   "execution_count": null,
   "metadata": {},
   "outputs": [],
   "source": []
  }
 ],
 "metadata": {
  "kernelspec": {
   "display_name": "Python 3",
   "language": "python",
   "name": "python3"
  },
  "language_info": {
   "codemirror_mode": {
    "name": "ipython",
    "version": 3
   },
   "file_extension": ".py",
   "mimetype": "text/x-python",
   "name": "python",
   "nbconvert_exporter": "python",
   "pygments_lexer": "ipython3",
   "version": "3.6.0"
  }
 },
 "nbformat": 4,
 "nbformat_minor": 2
}
