{
 "cells": [
  {
   "cell_type": "markdown",
   "metadata": {},
   "source": [
    "## 2. Tensorflow Low Level API\n",
    "\n",
    "### 2.1. 简介\n",
    "\n",
    "本指南旨在指导您使用低级别TensorFlow API (TensorFlow Core)开始编程。您可以学习执行以下操作：\n",
    "\n",
    "+ 管理TensorFlow程序([tf.Graph](https://www.tensorflow.org/api_docs/python/tf/Graph))和TensorFlow runtime(程序运行时刻的状态)([tf.Session](https://www.tensorflow.org/api_docs/python/tf/Session))，而不是依靠Estimator（高级API）来管理它们。\n",
    "+ 使用[tf.Session](https://www.tensorflow.org/api_docs/python/tf/Session)执行TensorFlow操作operation。\n",
    "+ 在此低级别环境中使用高级别组件（[datasets](https://www.tensorflow.org/guide/low_level_intro?hl=en#datasets)、[layers](https://www.tensorflow.org/guide/low_level_intro?hl=en#layers)和[feature_columns](https://www.tensorflow.org/guide/low_level_intro?hl=en#feature_columns))。\n",
    "+ 构建自己的训练循环，而不是使用[Estimator](https://www.tensorflow.org/guide/premade_estimators)提供的训练循环。\n",
    "\n",
    "建议尽可能使用更高级API构建模型。以下是学习TensorFlow Core仍很重要的原因：\n",
    "\n",
    "+ 直接使用低级TensorFlow操作，实验和调试都会更直接。\n",
    "+ 在使用更高级API时，能够理解其内部工作原理。\n",
    "\n",
    "**设置**\n",
    "\n",
    "---\n",
    "\n",
    "运行以下行来设置您的 Python 环境：\n"
   ]
  },
  {
   "cell_type": "code",
   "execution_count": 1,
   "metadata": {},
   "outputs": [],
   "source": [
    "from __future__ import absolute_import\n",
    "from __future__ import division\n",
    "from __future__ import print_function\n",
    "\n",
    "import numpy as np\n",
    "import tensorflow as tf\n"
   ]
  },
  {
   "cell_type": "markdown",
   "metadata": {},
   "source": [
    "**张量值Tensor Values**\n",
    "\n",
    "---\n",
    "\n",
    "TensorFlow中的核心数据单位是**张量tensor**。\n",
    "\n",
    "+ 张量tensor是由任意维度的数组构成，数组元素是基本数据类型。张量tensor的阶rank是数组的维数。张量的形状shape是一个指定数组每个维度长度的整数元组。\n",
    "+ 张量值tensor value: Tensorflow使用numpy数组表示。\n",
    "\n",
    "以下是张量值tensor values的一些示例：\n",
    "\n",
    "```\n",
    "3. # a rank 0 tensor; a scalar with shape [],\n",
    "[1., 2., 3.] # a rank 1 tensor; a vector with shape [3]\n",
    "[[1., 2., 3.], [4., 5., 6.]] # a rank 2 tensor; a matrix with shape [2, 3]\n",
    "[[[1., 2., 3.]], [[7., 8., 9.]]] # a rank 3 tensor with shape [2, 1, 3]\n",
    "```\n",
    "\n",
    "**Tensorflow低层API--Tensorflow Core演示**\n",
    "\n",
    "---\n",
    "\n",
    "可以认为TensorFlow Core程序由两个互相独立的部分组成：\n",
    "\n",
    "1. 构建计算流图([tf.Graph](https://www.tensorflow.org/api_docs/python/tf/Graph?hl=zh-cn));\n",
    "2. 运行计算流图([tf.Session](https://www.tensorflow.org/api_docs/python/tf/Session?hl=zh-cn));\n",
    "\n",
    "**计算流图Graph**\n",
    "\n",
    "**计算流图**是一系列节点（操作[tf.Operation](https://www.tensorflow.org/api_docs/python/tf/Operation)）和边（张量[tf.Tensor](https://www.tensorflow.org/api_docs/python/tf/Tensor)）的有向图，由两种类型对象组成：\n",
    "\n",
    "+ [tf.Operation](https://www.tensorflow.org/api_docs/python/tf/Operation)(简称“op”)：图的节点。操作表示消耗和生成张量的数学计算；\n",
    "+ [tf.Tensor](https://www.tensorflow.org/api_docs/python/tf/Tensor)：图的边。张量表示流经图的值。大多数TensorFlow函数会返回`tf.Tensors`。\n",
    "\n",
    "> **tf.Tensors不具有值，它们只是计算流图中元素的句柄（智能指针or引用）。**\n",
    "\n",
    "让我们来构建一个简单的计算流图。此计算流图中最基本的操作(op)是一个常量。构建操作(op)的Python函数`tf.constant()`将一个张量值tensor value作为输入参数值。生成的操作(op)不含有输入**值**。它在运行(`tf.Session`)时输出的是被传递给构造函数的值。我们可以创建如下所示的两个浮点数常量：\n"
   ]
  },
  {
   "cell_type": "code",
   "execution_count": 54,
   "metadata": {},
   "outputs": [
    {
     "name": "stdout",
     "output_type": "stream",
     "text": [
      "Tensor(\"Const_12:0\", shape=(), dtype=float32)\n",
      "\n",
      "name: \"Const_12\"\n",
      "op: \"Const\"\n",
      "attr {\n",
      "  key: \"dtype\"\n",
      "  value {\n",
      "    type: DT_FLOAT\n",
      "  }\n",
      "}\n",
      "attr {\n",
      "  key: \"value\"\n",
      "  value {\n",
      "    tensor {\n",
      "      dtype: DT_FLOAT\n",
      "      tensor_shape {\n",
      "      }\n",
      "      float_val: 3.0\n",
      "    }\n",
      "  }\n",
      "}\n",
      "\n",
      "\n",
      "<tensorflow.python.framework.ops.Graph object at 0x1285c8588>\n",
      "\n",
      "<dtype: 'float32'>\n",
      "\n",
      "()\n",
      "\n",
      "0\n",
      "*********************************************\n",
      "Tensor(\"Const_13:0\", shape=(), dtype=float32)\n",
      "\n",
      "name: \"Const_13\"\n",
      "op: \"Const\"\n",
      "attr {\n",
      "  key: \"dtype\"\n",
      "  value {\n",
      "    type: DT_FLOAT\n",
      "  }\n",
      "}\n",
      "attr {\n",
      "  key: \"value\"\n",
      "  value {\n",
      "    tensor {\n",
      "      dtype: DT_FLOAT\n",
      "      tensor_shape {\n",
      "      }\n",
      "      float_val: 4.0\n",
      "    }\n",
      "  }\n",
      "}\n",
      "\n",
      "\n",
      "<tensorflow.python.framework.ops.Graph object at 0x1285c8588>\n",
      "\n",
      "<dtype: 'float32'>\n",
      "\n",
      "()\n",
      "\n",
      "0\n",
      "Tensor(\"add_8:0\", shape=(), dtype=float32)\n"
     ]
    }
   ],
   "source": [
    "a = tf.constant(3. , dtype=tf.float32)\n",
    "b = tf.constant(4.)  # default tf.float32 \n",
    "total = a + b\n",
    "\n",
    "print(a, a.op, a.graph, a.dtype, a.shape, a.value_index, sep='\\n\\n')\n",
    "print('***' * 15)\n",
    "print(b, b.op, b.graph, b.dtype, b.shape, b.value_index, sep='\\n\\n')\n",
    "print(total)"
   ]
  },
  {
   "cell_type": "markdown",
   "metadata": {},
   "source": [
    "请注意，打印张量并不会如您可能预期的那样打印输入的**值**`3.0`、`4.0`和`7.0`。上述语句只会构建计算流图。这些[tf.Tensor](https://www.tensorflow.org/api_docs/python/tf/Tensor?hl=zh-cn)对象仅表征将要运行的操作的结果。\n",
    "\n",
    "计算流图中的每个操作(op)都拥有唯一的名称（示例输出的张量名称的\"：\"之前的就是操作名）。这个名称不同于使用Python分配给相应对象的名称。张量是根据`生成它们的操作名称+输出索引`来命名，如上文的 \"add:0\" 所示。\n",
    "\n",
    "\n",
    "**TensorBoard**\n",
    "\n",
    "TensorFlow提供了一个名为TensorBoard的实用程序。TensorBoard的诸多功能之一是可视化计算流图。您只需要使用几个简单的命令就能轻松可视化计算流图。\n",
    "\n",
    "首先将计算图保存为TensorBoard摘要文件Tensorflow summary file，具体操作如下所示：\n"
   ]
  },
  {
   "cell_type": "code",
   "execution_count": 4,
   "metadata": {},
   "outputs": [],
   "source": [
    "writer = tf.summary.FileWriter('.')\n",
    "writer.add_graph(tf.get_default_graph())"
   ]
  },
  {
   "cell_type": "markdown",
   "metadata": {},
   "source": [
    "这将在当前目录中生成一个`event`文件，其名称格式如下：\n",
    "\n",
    "```\n",
    "events.out.tfevents.{timestamp}.{hostname}\n",
    "```\n",
    "\n",
    "现在，在新的终端中使用以下 shell 命令启动 TensorBoard："
   ]
  },
  {
   "cell_type": "code",
   "execution_count": 7,
   "metadata": {},
   "outputs": [
    {
     "name": "stdout",
     "output_type": "stream",
     "text": [
      "TensorBoard 1.12.0 at http://CharosendeMacBook-Air-2.local:6006 (Press CTRL+C to quit)\n",
      "^C\n"
     ]
    }
   ],
   "source": [
    "!tensorboard --logdir ."
   ]
  },
  {
   "cell_type": "markdown",
   "metadata": {},
   "source": [
    "接下来，在您的浏览器中打开TensorBoard的页面<http://charosendemacbook-air-2.local:6006/>，您应该会看到与以下图形类似的图：\n",
    "\n",
    "![](https://www.tensorflow.org/images/getting_started_add.png?hl=zh-cn)\n",
    "\n",
    "更多关于TensorBoard计算流图的可视化工具，请参阅[TensorBoard: Graph Visualization](https://www.tensorflow.org/guide/graph_viz)\n",
    "\n",
    "**运行计算流图Session**\n",
    "\n",
    "为了评估张量的值，需要实例化[tf.Session](https://www.tensorflow.org/api_docs/python/tf/Session?hl=zh-cn)对象（非正式名称为**session**）。session会封装TensorFlow runtime的状态，并运行TensorFlow操作(op)。如果说[tf.Graph]()像一个`.py`源文件，那么[tf.Session]()就像一个`python`可执行对象。\n",
    "\n",
    "下面的代码会创建一个[tf.Session](https://www.tensorflow.org/api_docs/python/tf/Session?hl=zh-cn)对象，然后调用其`run`方法来评估我们在上文中创建的`total`张量："
   ]
  },
  {
   "cell_type": "code",
   "execution_count": 8,
   "metadata": {},
   "outputs": [
    {
     "name": "stdout",
     "output_type": "stream",
     "text": [
      "7.0\n"
     ]
    }
   ],
   "source": [
    "sess = tf.Session()\n",
    "print(sess.run(total))\n"
   ]
  },
  {
   "cell_type": "markdown",
   "metadata": {},
   "source": [
    "当您使用Session.run请求输出节点时，TensorFlow会回溯整个图，并流经为所请求的输出节点提供对应输入值的所有节点。因此此指令会打印预期的值 7.0。\n",
    "\n",
    "**可以将多个张量传递给[tf.Session.run](https://www.tensorflow.org/api_docs/python/tf/Session?hl=zh-cn#run)。run方法以透明方式处理元组或字典的任何组合，返回的结果拥有相同的布局结构**，如下例所示："
   ]
  },
  {
   "cell_type": "code",
   "execution_count": 9,
   "metadata": {},
   "outputs": [
    {
     "name": "stdout",
     "output_type": "stream",
     "text": [
      "{'ab': (3.0, 4.0), 'total': 7.0}\n"
     ]
    }
   ],
   "source": [
    "print(sess.run({'ab': (a, b) , 'total': total}))"
   ]
  },
  {
   "cell_type": "markdown",
   "metadata": {},
   "source": [
    "**在调用[tf.Session.run](https://www.tensorflow.org/api_docs/python/tf/Session?hl=zh-cn#run)期间，任何[tf.Tensor](https://www.tensorflow.org/api_docs/python/tf/Tensor?hl=zh-cn)都只有单个值。**例如，以下代码调用[tf.random_uniform](https://www.tensorflow.org/api_docs/python/tf/random_uniform?hl=zh-cn)来生成一个[tf.Tensor](https://www.tensorflow.org/api_docs/python/tf/Tensor?hl=zh-cn)，后者会生成随机的三元素矢量（值位于`[0,1)`区间内）："
   ]
  },
  {
   "cell_type": "code",
   "execution_count": 11,
   "metadata": {},
   "outputs": [
    {
     "name": "stdout",
     "output_type": "stream",
     "text": [
      "[0.39608014 0.04684651 0.71877193]\n",
      "[0.42865717 0.97670376 0.7490194 ]\n",
      "(array([1.4137791, 1.933774 , 1.1837364], dtype=float32), array([2.4137793, 2.933774 , 2.1837363], dtype=float32))\n"
     ]
    }
   ],
   "source": [
    "vec = tf.random_uniform(shape=(3, ))\n",
    "out1 = vec + 1\n",
    "out2 = vec + 2\n",
    "print(sess.run(vec))\n",
    "print(sess.run(vec))\n",
    "print(sess.run((out1, out2)))\n"
   ]
  },
  {
   "cell_type": "markdown",
   "metadata": {},
   "source": [
    "每次调用`run`时，结果都会显示不同的随机值，但在单个`run`期间（`out1`和`out2`接收到相同的随机输入值），结果显示的值是一致的;\n",
    "\n",
    "部分TensorFlow函数会返回`tf.Operations`，而不是`tf.Tensors`。对指令调用`run`的结果是`None`。Some TensorFlow functions return `tf.Operations` instead of `tf.Tensors`. The result of calling `run` on an Operation is `None`. You run an operation to cause a side-effect, not to retrieve a value. Examples of this include the [initialization](https://www.tensorflow.org/guide/low_level_intro?hl=en#Initializing%20Layers), and [training](https://www.tensorflow.org/guide/low_level_intro?hl=en#Training) ops demonstrated later.\n",
    "\n",
    "**供给Feeding**\n",
    "\n",
    "图可以参数化以便接受外部输入external input，也称为**占位符placeholder**。**占位符placeholder**表示承诺在稍后提供值，它就像函数参数, **可以使用tf.Session.run方法的feed_dict参数为占位符提供具体的值**。"
   ]
  },
  {
   "cell_type": "code",
   "execution_count": 12,
   "metadata": {},
   "outputs": [
    {
     "name": "stdout",
     "output_type": "stream",
     "text": [
      "Tensor(\"add_3:0\", dtype=float32)\n"
     ]
    }
   ],
   "source": [
    "x = tf.placeholder(tf.float32)\n",
    "y = tf.placeholder(tf.float32)\n",
    "z = x + y\n",
    "print(z)"
   ]
  },
  {
   "cell_type": "markdown",
   "metadata": {},
   "source": [
    "前面三行有点像函数。在这个函数中，我们定义了两个输入参数（`x`和`y`），以及对参数执行的操作(op)。我们可以使用[tf.Session.run](https://www.tensorflow.org/api_docs/python/tf/Session#run)方法的`feed_dict`参数为占位符提供具体的值，从而评估这个具有多个输入的图："
   ]
  },
  {
   "cell_type": "code",
   "execution_count": 14,
   "metadata": {},
   "outputs": [
    {
     "name": "stdout",
     "output_type": "stream",
     "text": [
      "7.5\n",
      "[3. 7.]\n"
     ]
    }
   ],
   "source": [
    "print(sess.run(z, feed_dict={x: 3, y: 4.5}))\n",
    "print(sess.run(z, feed_dict={x: [1, 3], y: [2, 4]}))\n"
   ]
  },
  {
   "cell_type": "markdown",
   "metadata": {},
   "source": [
    "另请注意，`feed_dict`参数可用于覆盖图中的任何张量。`placeholder`和其他`tf.Tensors`的唯一不同之处在于如果没有为占位符提供值，那么占位符会抛出错误。\n",
    "\n",
    "**数据集**\n",
    "\n",
    "---\n",
    "\n",
    "占位符placeholder适用于简单的实验，而将数据传输到模型的首选方法是[tf.data](https://www.tensorflow.org/api_docs/python/tf/data)。\n",
    "\n",
    "要从数据集中获取可运行的[tf.Tensor](https://www.tensorflow.org/api_docs/python/tf/Tensor)，您必须先将其转换成[tf.data.Iterator](https://www.tensorflow.org/api_docs/python/tf/data/Iterator)，然后调用迭代器的[tf.data.Iterator.get_next](https://www.tensorflow.org/api_docs/python/tf/data/Iterator#get_next)方法。\n",
    "\n",
    "创建迭代器的最简单的方式是采用[make_one_shot_iterator](https://www.tensorflow.org/api_docs/python/tf/data/Dataset?hl=zh-cn#make_one_shot_iterator)方法。例如，在下面的代码中，`next_item`张量将在每次`run`调用时从`my_data`阵列返回一行："
   ]
  },
  {
   "cell_type": "code",
   "execution_count": 24,
   "metadata": {},
   "outputs": [],
   "source": [
    "my_data = [\n",
    "    [0, 1,],\n",
    "    [2, 3,],\n",
    "    [4, 5,],\n",
    "    [6, 7,],\n",
    "]\n",
    "slices = tf.data.Dataset.from_tensor_slices(my_data)\n",
    "next_item = slices.make_one_shot_iterator().get_next()"
   ]
  },
  {
   "cell_type": "markdown",
   "metadata": {},
   "source": [
    "到达数据流末端时，`Dataset`会抛出[OutOfRangeError](https://www.tensorflow.org/api_docs/python/tf/errors/OutOfRangeError?hl=zh-cn)。例如，下面的代码会一直读取`next_item`，直到没有数据可读："
   ]
  },
  {
   "cell_type": "code",
   "execution_count": 25,
   "metadata": {},
   "outputs": [
    {
     "name": "stdout",
     "output_type": "stream",
     "text": [
      "[0 1]\n",
      "[2 3]\n",
      "[4 5]\n",
      "[6 7]\n",
      "we captured one Error: End of sequence\n",
      "\t [[node IteratorGetNext_3 (defined at <ipython-input-24-2e707051fb48>:8)  = IteratorGetNext[output_shapes=[[2]], output_types=[DT_INT32], _device=\"/job:localhost/replica:0/task:0/device:CPU:0\"](OneShotIterator_3)]]\n",
      "\n",
      "Caused by op 'IteratorGetNext_3', defined at:\n",
      "  File \"/Library/Frameworks/Python.framework/Versions/3.6/lib/python3.6/runpy.py\", line 193, in _run_module_as_main\n",
      "    \"__main__\", mod_spec)\n",
      "  File \"/Library/Frameworks/Python.framework/Versions/3.6/lib/python3.6/runpy.py\", line 85, in _run_code\n",
      "    exec(code, run_globals)\n",
      "  File \"/Users/mac/.venvs/ml/lib/python3.6/site-packages/ipykernel_launcher.py\", line 16, in <module>\n",
      "    app.launch_new_instance()\n",
      "  File \"/Users/mac/.venvs/ml/lib/python3.6/site-packages/traitlets/config/application.py\", line 658, in launch_instance\n",
      "    app.start()\n",
      "  File \"/Users/mac/.venvs/ml/lib/python3.6/site-packages/ipykernel/kernelapp.py\", line 505, in start\n",
      "    self.io_loop.start()\n",
      "  File \"/Users/mac/.venvs/ml/lib/python3.6/site-packages/tornado/platform/asyncio.py\", line 132, in start\n",
      "    self.asyncio_loop.run_forever()\n",
      "  File \"/Library/Frameworks/Python.framework/Versions/3.6/lib/python3.6/asyncio/base_events.py\", line 421, in run_forever\n",
      "    self._run_once()\n",
      "  File \"/Library/Frameworks/Python.framework/Versions/3.6/lib/python3.6/asyncio/base_events.py\", line 1425, in _run_once\n",
      "    handle._run()\n",
      "  File \"/Library/Frameworks/Python.framework/Versions/3.6/lib/python3.6/asyncio/events.py\", line 126, in _run\n",
      "    self._callback(*self._args)\n",
      "  File \"/Users/mac/.venvs/ml/lib/python3.6/site-packages/tornado/ioloop.py\", line 758, in _run_callback\n",
      "    ret = callback()\n",
      "  File \"/Users/mac/.venvs/ml/lib/python3.6/site-packages/tornado/stack_context.py\", line 300, in null_wrapper\n",
      "    return fn(*args, **kwargs)\n",
      "  File \"/Users/mac/.venvs/ml/lib/python3.6/site-packages/tornado/gen.py\", line 1233, in inner\n",
      "    self.run()\n",
      "  File \"/Users/mac/.venvs/ml/lib/python3.6/site-packages/tornado/gen.py\", line 1147, in run\n",
      "    yielded = self.gen.send(value)\n",
      "  File \"/Users/mac/.venvs/ml/lib/python3.6/site-packages/ipykernel/kernelbase.py\", line 357, in process_one\n",
      "    yield gen.maybe_future(dispatch(*args))\n",
      "  File \"/Users/mac/.venvs/ml/lib/python3.6/site-packages/tornado/gen.py\", line 326, in wrapper\n",
      "    yielded = next(result)\n",
      "  File \"/Users/mac/.venvs/ml/lib/python3.6/site-packages/ipykernel/kernelbase.py\", line 267, in dispatch_shell\n",
      "    yield gen.maybe_future(handler(stream, idents, msg))\n",
      "  File \"/Users/mac/.venvs/ml/lib/python3.6/site-packages/tornado/gen.py\", line 326, in wrapper\n",
      "    yielded = next(result)\n",
      "  File \"/Users/mac/.venvs/ml/lib/python3.6/site-packages/ipykernel/kernelbase.py\", line 534, in execute_request\n",
      "    user_expressions, allow_stdin,\n",
      "  File \"/Users/mac/.venvs/ml/lib/python3.6/site-packages/tornado/gen.py\", line 326, in wrapper\n",
      "    yielded = next(result)\n",
      "  File \"/Users/mac/.venvs/ml/lib/python3.6/site-packages/ipykernel/ipkernel.py\", line 294, in do_execute\n",
      "    res = shell.run_cell(code, store_history=store_history, silent=silent)\n",
      "  File \"/Users/mac/.venvs/ml/lib/python3.6/site-packages/ipykernel/zmqshell.py\", line 536, in run_cell\n",
      "    return super(ZMQInteractiveShell, self).run_cell(*args, **kwargs)\n",
      "  File \"/Users/mac/.venvs/ml/lib/python3.6/site-packages/IPython/core/interactiveshell.py\", line 2819, in run_cell\n",
      "    raw_cell, store_history, silent, shell_futures)\n",
      "  File \"/Users/mac/.venvs/ml/lib/python3.6/site-packages/IPython/core/interactiveshell.py\", line 2845, in _run_cell\n",
      "    return runner(coro)\n",
      "  File \"/Users/mac/.venvs/ml/lib/python3.6/site-packages/IPython/core/async_helpers.py\", line 67, in _pseudo_sync_runner\n",
      "    coro.send(None)\n",
      "  File \"/Users/mac/.venvs/ml/lib/python3.6/site-packages/IPython/core/interactiveshell.py\", line 3020, in run_cell_async\n",
      "    interactivity=interactivity, compiler=compiler, result=result)\n",
      "  File \"/Users/mac/.venvs/ml/lib/python3.6/site-packages/IPython/core/interactiveshell.py\", line 3185, in run_ast_nodes\n",
      "    if (yield from self.run_code(code, result)):\n",
      "  File \"/Users/mac/.venvs/ml/lib/python3.6/site-packages/IPython/core/interactiveshell.py\", line 3267, in run_code\n",
      "    exec(code_obj, self.user_global_ns, self.user_ns)\n",
      "  File \"<ipython-input-24-2e707051fb48>\", line 8, in <module>\n",
      "    next_item = slices.make_one_shot_iterator().get_next()\n",
      "  File \"/Users/mac/.venvs/ml/lib/python3.6/site-packages/tensorflow/python/data/ops/iterator_ops.py\", line 421, in get_next\n",
      "    name=name)), self._output_types,\n",
      "  File \"/Users/mac/.venvs/ml/lib/python3.6/site-packages/tensorflow/python/ops/gen_dataset_ops.py\", line 2069, in iterator_get_next\n",
      "    output_shapes=output_shapes, name=name)\n",
      "  File \"/Users/mac/.venvs/ml/lib/python3.6/site-packages/tensorflow/python/framework/op_def_library.py\", line 787, in _apply_op_helper\n",
      "    op_def=op_def)\n",
      "  File \"/Users/mac/.venvs/ml/lib/python3.6/site-packages/tensorflow/python/util/deprecation.py\", line 488, in new_func\n",
      "    return func(*args, **kwargs)\n",
      "  File \"/Users/mac/.venvs/ml/lib/python3.6/site-packages/tensorflow/python/framework/ops.py\", line 3274, in create_op\n",
      "    op_def=op_def)\n",
      "  File \"/Users/mac/.venvs/ml/lib/python3.6/site-packages/tensorflow/python/framework/ops.py\", line 1770, in __init__\n",
      "    self._traceback = tf_stack.extract_stack()\n",
      "\n",
      "OutOfRangeError (see above for traceback): End of sequence\n",
      "\t [[node IteratorGetNext_3 (defined at <ipython-input-24-2e707051fb48>:8)  = IteratorGetNext[output_shapes=[[2]], output_types=[DT_INT32], _device=\"/job:localhost/replica:0/task:0/device:CPU:0\"](OneShotIterator_3)]]\n",
      "\n"
     ]
    }
   ],
   "source": [
    "while True:\n",
    "    try:\n",
    "        print(sess.run(next_item))\n",
    "    except tf.errors.OutOfRangeError as e:\n",
    "        print('we captured one Error:', e)\n",
    "        break"
   ]
  },
  {
   "cell_type": "markdown",
   "metadata": {},
   "source": [
    "要详细了解数据集和迭代器，请参阅[导入数据](https://www.tensorflow.org/guide/datasets)。\n",
    "\n",
    "**层Layer**\n",
    "\n",
    "---\n",
    "\n",
    "可训练的模型必须修改图中的参数值，以便在输入相同值的情况下获得新的输出值。将可训练参数添加到图中的首选方法是[tf.layers](https://www.tensorflow.org/api_docs/python/tf/layers)。\n",
    "\n",
    "层将变量和作用于它们的操作打包在一起。例如，[密集连接层densely-connected layer](https://developers.google.com/machine-learning/glossary/#fully_connected_layer)会对每个输出对应的所有输入执行加权和，并应用可选的激活函数[activation function](https://developers.google.com/machine-learning/glossary/#activation_function)。连接权重和偏置由层对象管理。\n",
    "\n",
    "**创建层Creating Layers**\n",
    "\n",
    "下面的代码会创建一个[tf.layers.Dense]()层，该层会接受一批输入矢量，并为每个矢量生成一个输出值。要将层应用于输入值，请将该层当做函数来调用。例如："
   ]
  },
  {
   "cell_type": "code",
   "execution_count": 34,
   "metadata": {},
   "outputs": [
    {
     "name": "stdout",
     "output_type": "stream",
     "text": [
      "<tensorflow.python.layers.core.Dense object at 0x128bd69e8> <class 'tensorflow.python.layers.core.Dense'>\n",
      "Tensor(\"dense_4/BiasAdd:0\", shape=(?, 1), dtype=float32) <class 'tensorflow.python.framework.ops.Tensor'>\n"
     ]
    }
   ],
   "source": [
    "x = tf.placeholder(tf.float32, shape=[None, 3])\n",
    "linear_model = tf.layers.Dense(units=1)\n",
    "print(linear_model, type(linear_model))\n",
    "y = linear_model(x)\n",
    "print(y, type(y))"
   ]
  },
  {
   "cell_type": "markdown",
   "metadata": {},
   "source": [
    "层会检查其输入数据，以确定其内部变量的size。因此，我们必须在这里设置`x`占位符的形状，以便层构建正确size的权重矩阵。\n",
    "\n",
    "我们现在已经定义了输出值 y 的计算，在我们运行计算之前，还需要处理一个细节。\n",
    "\n",
    "\n",
    "**初始化层Initializing Layers**\n",
    "\n",
    "\n",
    "层包含的变量必须先**初始化**，然后才能使用。尽管可以单独初始化各个变量，但也可以轻松地初始化一个 TensorFlow 图中的所有变量（如下所示）:"
   ]
  },
  {
   "cell_type": "code",
   "execution_count": 39,
   "metadata": {},
   "outputs": [
    {
     "name": "stdout",
     "output_type": "stream",
     "text": [
      "name: \"init_4\"\n",
      "op: \"NoOp\"\n",
      "input: \"^dense/kernel/Assign\"\n",
      "input: \"^dense/bias/Assign\"\n",
      "input: \"^dense_1/kernel/Assign\"\n",
      "input: \"^dense_1/bias/Assign\"\n",
      "input: \"^dense_2/kernel/Assign\"\n",
      "input: \"^dense_2/bias/Assign\"\n",
      "input: \"^dense_3/kernel/Assign\"\n",
      "input: \"^dense_3/bias/Assign\"\n",
      "input: \"^dense_4/kernel/Assign\"\n",
      "input: \"^dense_4/bias/Assign\"\n",
      " <class 'tensorflow.python.framework.ops.Operation'>\n"
     ]
    }
   ],
   "source": [
    "init = tf.global_variables_initializer()\n",
    "print(init, type(init))\n",
    "sess.run(init)"
   ]
  },
  {
   "cell_type": "markdown",
   "metadata": {},
   "source": [
    ">>重要提示：调用[tf.global_variables_initializer](https://www.tensorflow.org/api_docs/python/tf/global_variables_initializer?hl=zh-cn)仅会创建并返回TensorFlow操作的句柄。当我们使用[tf.Session.run](https://www.tensorflow.org/api_docs/python/tf/Session?hl=zh-cn#run)运行该操作时，该操作将初始化所有全局变量。\n",
    "\n",
    "另请注意，此`global_variables_initializer`仅会初始化创建初始化程序时图中就存在的变量。因此您应该在构建图表的最后一步添加初始化程序。\n",
    "\n",
    "**执行层Executing Layers**\n",
    "\n",
    "我们现在已经完成了层的初始化，可以像处理任何其他张量一样评估`linear_model`的输出张量了。例如，下面的代码："
   ]
  },
  {
   "cell_type": "code",
   "execution_count": 40,
   "metadata": {},
   "outputs": [
    {
     "name": "stdout",
     "output_type": "stream",
     "text": [
      "[[-2.350449 ]\n",
      " [-6.1733255]]\n"
     ]
    }
   ],
   "source": [
    "print(sess.run(y, {x: [[1, 2, 3], [4, 5, 6]]}))"
   ]
  },
  {
   "cell_type": "markdown",
   "metadata": {},
   "source": [
    "**Layer Function shortcut**\n",
    "\n",
    "对于每个层类（如[tf.layers.Dense](https://www.tensorflow.org/api_docs/python/tf/layers/Dense))，TensorFlow 还提供了一个快捷函数（如[tf.layers.dense](https://www.tensorflow.org/api_docs/python/tf/layers/dense)）。两者唯一的区别是快捷函数版本是在单次调用中创建和运行层。例如，以下代码等同于较早的版本："
   ]
  },
  {
   "cell_type": "code",
   "execution_count": 41,
   "metadata": {},
   "outputs": [
    {
     "name": "stdout",
     "output_type": "stream",
     "text": [
      "[[0.35044795]\n",
      " [2.0934682 ]]\n"
     ]
    }
   ],
   "source": [
    "x = tf.placeholder(tf.float32, shape=[None, 3])\n",
    "y = tf.layers.dense(x, units=1)\n",
    "\n",
    "init = tf.global_variables_initializer()\n",
    "sess.run(init)\n",
    "\n",
    "print(sess.run(y, {x: [[1, 2, 3], [4, 5, 6]]}))\n"
   ]
  },
  {
   "cell_type": "markdown",
   "metadata": {},
   "source": [
    "While convenient, this approach allows no access to the [tf.layers.Layer](https://www.tensorflow.org/api_docs/python/tf/layers/Layer) object. This makes introspection and debugging more difficult, and layer reuse impossible.尽管这种方法很方便，但无法访问 tf.layers.Layer 对象。这会让自省和调试变得更加困难，并且无法重复使用相同的层。"
   ]
  },
  {
   "cell_type": "markdown",
   "metadata": {},
   "source": [
    "**特征列Feature columns**\n",
    "\n",
    "(待补充)\n",
    "\n",
    "**训练training**\n",
    "\n",
    "---\n",
    "\n",
    "您现在已经了解 TensorFlow core的基础知识了，我们来手动训练一个小型回归模型吧。\n",
    "\n",
    "**定义数据**\n",
    "\n",
    "我们首先来定义一些输入值 x，以及每个输入值的真实期望输出值 y_true："
   ]
  },
  {
   "cell_type": "code",
   "execution_count": 42,
   "metadata": {},
   "outputs": [],
   "source": [
    "x = tf.constant([[1], [2], [3], [4]], dtype=tf.float32)\n",
    "y_true = tf.constant([[0], [-1], [-2], [-3]], dtype=tf.float32)"
   ]
  },
  {
   "cell_type": "markdown",
   "metadata": {},
   "source": [
    "**定义模型**\n",
    "\n",
    "接下来，建立一个简单的线性模型，其输出值只有 1 个："
   ]
  },
  {
   "cell_type": "code",
   "execution_count": 43,
   "metadata": {},
   "outputs": [],
   "source": [
    "linear_model = tf.layers.Dense(units=1)\n",
    "y_pred = linear_model(x)"
   ]
  },
  {
   "cell_type": "markdown",
   "metadata": {},
   "source": [
    "您可以如下评估预测值："
   ]
  },
  {
   "cell_type": "code",
   "execution_count": 44,
   "metadata": {},
   "outputs": [
    {
     "name": "stdout",
     "output_type": "stream",
     "text": [
      "[[-1.6602011]\n",
      " [-3.3204021]\n",
      " [-4.980603 ]\n",
      " [-6.6408043]]\n"
     ]
    }
   ],
   "source": [
    "sess = tf.Session()\n",
    "init = tf.global_variables_initializer()\n",
    "sess.run(init)\n",
    "\n",
    "print(sess.run(y_pred))\n"
   ]
  },
  {
   "cell_type": "markdown",
   "metadata": {},
   "source": [
    "该模型尚未接受训练，因此四个“预测”值并不理想。\n",
    "\n",
    "**损失** \n",
    "\n",
    "要优化模型，您首先需要定义损失。我们将使用均方误差，这是回归问题的标准损失。\n",
    "\n",
    "[tf.losses](https://www.tensorflow.org/api_docs/python/tf/losses?hl=zh-cn)模块提供了一系列常用的损失函数。您可以使用它来计算均方误差，具体操作如下所示："
   ]
  },
  {
   "cell_type": "code",
   "execution_count": 46,
   "metadata": {},
   "outputs": [
    {
     "name": "stdout",
     "output_type": "stream",
     "text": [
      "7.569996\n"
     ]
    }
   ],
   "source": [
    "loss = tf.losses.mean_squared_error(labels=y_true, predictions=y_pred)\n",
    "print(sess.run(loss))"
   ]
  },
  {
   "cell_type": "markdown",
   "metadata": {},
   "source": [
    "**训练**\n",
    "\n",
    "TensorFlow 提供了使用标准优化算法的优化器[optimizer](https://developers.google.com/machine-learning/glossary/#optimizer)。这些优化器被实现为[tf.train.Optimizer](https://www.tensorflow.org/api_docs/python/tf/train/Optimizer?hl=zh-cn)的子类。它们会逐渐改变(迭代求解)每个变量，以便将损失最小化。最简单的优化算法是[梯度下降法](https://developers.google.com/machine-learning/glossary/?hl=zh-cn#gradient_descent),由[tf.train.GradientDescentOptimizer](https://www.tensorflow.org/api_docs/python/tf/train/GradientDescentOptimizer?hl=zh-cn)实现。它会根据损失相对于变量的导数大小来修改各个变量。例如："
   ]
  },
  {
   "cell_type": "code",
   "execution_count": 48,
   "metadata": {},
   "outputs": [
    {
     "name": "stdout",
     "output_type": "stream",
     "text": [
      "<tensorflow.python.training.gradient_descent.GradientDescentOptimizer object at 0x128f4d160> <class 'tensorflow.python.training.gradient_descent.GradientDescentOptimizer'>\n",
      "name: \"GradientDescent_1\"\n",
      "op: \"NoOp\"\n",
      "input: \"^GradientDescent_1/update_dense_6/kernel/ApplyGradientDescent\"\n",
      "input: \"^GradientDescent_1/update_dense_6/bias/ApplyGradientDescent\"\n",
      " <class 'tensorflow.python.framework.ops.Operation'>\n"
     ]
    }
   ],
   "source": [
    "optimizer = tf.train.GradientDescentOptimizer(0.01)\n",
    "print(optimizer, type(optimizer))\n",
    "train = optimizer.minimize(loss)\n",
    "print(train, type(train))"
   ]
  },
  {
   "cell_type": "markdown",
   "metadata": {},
   "source": [
    "该代码构建了优化所需的所有图组件，并返回一个训练操作。该训练指令在运行时会更新图中的变量。您可以按以下方式运行该操作："
   ]
  },
  {
   "cell_type": "code",
   "execution_count": 49,
   "metadata": {},
   "outputs": [
    {
     "name": "stdout",
     "output_type": "stream",
     "text": [
      "7.569996\n",
      "5.276876\n",
      "3.6855836\n",
      "2.5812767\n",
      "1.814877\n",
      "1.2829468\n",
      "0.9137109\n",
      "0.6573647\n",
      "0.4793518\n",
      "0.3556939\n",
      "0.26975223\n",
      "0.20998189\n",
      "0.16837218\n",
      "0.13936448\n",
      "0.11910199\n",
      "0.10490828\n",
      "0.09492651\n",
      "0.08786802\n",
      "0.08283873\n",
      "0.079218306\n",
      "0.07657615\n",
      "0.07461366\n",
      "0.073123485\n",
      "0.07196185\n",
      "0.071028896\n",
      "0.070255436\n",
      "0.06959335\n",
      "0.069009334\n",
      "0.06848022\n",
      "0.06798994\n",
      "0.067527324\n",
      "0.06708467\n",
      "0.06665655\n",
      "0.06623929\n",
      "0.06583023\n",
      "0.06542762\n",
      "0.065030195\n",
      "0.06463705\n",
      "0.064247586\n",
      "0.06386136\n",
      "0.06347808\n",
      "0.06309756\n",
      "0.06271961\n",
      "0.062344123\n",
      "0.061971057\n",
      "0.061600298\n",
      "0.06123185\n",
      "0.06086564\n",
      "0.060501665\n",
      "0.060139883\n",
      "0.05978027\n",
      "0.059422832\n",
      "0.059067525\n",
      "0.058714356\n",
      "0.05836332\n",
      "0.058014356\n",
      "0.05766748\n",
      "0.05732272\n",
      "0.056979977\n",
      "0.0566393\n",
      "0.05630066\n",
      "0.05596404\n",
      "0.055629447\n",
      "0.055296842\n",
      "0.05496624\n",
      "0.05463758\n",
      "0.054310925\n",
      "0.0539862\n",
      "0.053663436\n",
      "0.05334259\n",
      "0.053023644\n",
      "0.05270662\n",
      "0.0523915\n",
      "0.05207827\n",
      "0.051766887\n",
      "0.051457394\n",
      "0.051149726\n",
      "0.050843917\n",
      "0.050539933\n",
      "0.050237764\n",
      "0.049937397\n",
      "0.049638823\n",
      "0.04934206\n",
      "0.049047038\n",
      "0.048753776\n",
      "0.0484623\n",
      "0.048172563\n",
      "0.047884546\n",
      "0.047598228\n",
      "0.04731366\n",
      "0.04703078\n",
      "0.0467496\n",
      "0.04647009\n",
      "0.046192225\n",
      "0.045916054\n",
      "0.04564155\n",
      "0.045368657\n",
      "0.045097407\n",
      "0.044827767\n",
      "0.04455976\n"
     ]
    }
   ],
   "source": [
    "for i in range(100):\n",
    "    _, loss_value = sess.run((train, loss))\n",
    "    print(loss_value)\n"
   ]
  },
  {
   "cell_type": "markdown",
   "metadata": {},
   "source": [
    "**完整程序**\n",
    "\n",
    "```\n",
    "x = tf.constant([[1], [2], [3], [4]], dtype=tf.float32)\n",
    "y_true = tf.constant([[0], [-1], [-2], [-3]], dtype=tf.float32)\n",
    "\n",
    "linear_model = tf.layers.Dense(units=1)\n",
    "\n",
    "y_pred = linear_model(x)\n",
    "loss = tf.losses.mean_squared_error(labels=y_true, predictions=y_pred)\n",
    "\n",
    "optimizer = tf.train.GradientDescentOptimizer(0.01)\n",
    "train = optimizer.minimize(loss)\n",
    "\n",
    "init = tf.global_variables_initializer()\n",
    "\n",
    "sess = tf.Session()\n",
    "sess.run(init)\n",
    "for i in range(100):\n",
    "  _, loss_value = sess.run((train, loss))\n",
    "  print(loss_value)\n",
    "\n",
    "print(sess.run(y_pred))\n",
    "```"
   ]
  },
  {
   "cell_type": "code",
   "execution_count": null,
   "metadata": {},
   "outputs": [],
   "source": []
  }
 ],
 "metadata": {
  "kernelspec": {
   "display_name": "Python (ml)",
   "language": "python",
   "name": "ml"
  },
  "language_info": {
   "codemirror_mode": {
    "name": "ipython",
    "version": 3
   },
   "file_extension": ".py",
   "mimetype": "text/x-python",
   "name": "python",
   "nbconvert_exporter": "python",
   "pygments_lexer": "ipython3",
   "version": "3.6.0"
  }
 },
 "nbformat": 4,
 "nbformat_minor": 2
}
