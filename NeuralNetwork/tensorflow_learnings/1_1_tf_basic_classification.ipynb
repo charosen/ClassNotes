{
 "cells": [
  {
   "cell_type": "markdown",
   "metadata": {},
   "source": [
    "# Tensorflow\n",
    "\n",
    "Tensorflow是一个采用数据流图(data flow graph)，用于数值计算的开源软件库。\n",
    "\n",
    "## 数据流图\n",
    "\n",
    "数据流图用“节点”(nodes)和“线”(edges)的**有向图**来描述数学计算。\n",
    "+ “节点”：表示数学操作，或者表示数据输入(feed in)的起点/输出(push out)的终点，或者表示读取/写入持久变量(persistent variable)的终点。\n",
    "+ “线”：表示“节点”之间的输入/输出关系，运输“size可动态调整”的多维数据数组，即“张量”(tensor)。\n",
    "\n",
    "## Tensorflow的特征\n",
    "\n",
    "1. 高度的灵活性；\n",
    "2. 真正的可移植性(Portability)；\n",
    "3. 将科研和产品联系在一起；\n",
    "4. 自动求微分；\n",
    "5. 多语言支持；\n",
    "6. 性能最优化；\n",
    "\n",
    "详见[tensorflow中文社区首页](http://www.tensorfly.cn/)\n"
   ]
  },
  {
   "cell_type": "markdown",
   "metadata": {},
   "source": [
    "## 1. 新手入门\n",
    "\n",
    "### 1.1. 简介\n",
    "\n",
    "Tensorflow示例代码：Python程序生成一些三维数据，用一个平面去拟合它：\n"
   ]
  },
  {
   "cell_type": "code",
   "execution_count": 1,
   "metadata": {},
   "outputs": [
    {
     "name": "stdout",
     "output_type": "stream",
     "text": [
      "WARNING:tensorflow:From /Users/mac/.venvs/ml/lib/python3.6/site-packages/tensorflow/python/util/tf_should_use.py:189: initialize_all_variables (from tensorflow.python.ops.variables) is deprecated and will be removed after 2017-03-02.\n",
      "Instructions for updating:\n",
      "Use `tf.global_variables_initializer` instead.\n",
      "0 [[-0.33509916  0.5771301 ]] [0.70164603]\n",
      "20 [[0.00432041 0.20699319]] [0.34716475]\n",
      "40 [[0.08016835 0.19218792]] [0.31430474]\n",
      "60 [[0.09504558 0.19618107]] [0.30448675]\n",
      "80 [[0.09859212 0.19860245]] [0.30142772]\n",
      "100 [[0.09957147 0.19952866]] [0.30045706]\n",
      "120 [[0.09986536 0.1998456 ]] [0.3001467]\n",
      "140 [[0.09995712 0.19995   ]] [0.30004713]\n",
      "160 [[0.09998628 0.19998388]] [0.30001515]\n",
      "180 [[0.0999956  0.19999483]] [0.30000484]\n",
      "200 [[0.09999859 0.19999835]] [0.30000156]\n"
     ]
    }
   ],
   "source": [
    "import tensorflow as tf\n",
    "import numpy as np\n",
    "\n",
    "\n",
    "# 使用`Numpy`生成假数据(phony data),总共100各点\n",
    "x_data = np.float32(np.random.rand(2, 100))  # 伪随机生成均匀分布在[0, 1)之间的2x100数组，并转换为float32数据类型，原来是float64\n",
    "y_data = np.dot([0.100, 0.200], x_data) + 0.300  # y = kTx + k0 真实分布\n",
    "\n",
    "# 构造一个线性模型\n",
    "b = tf.Variable(tf.zeros([1]))  # 线性模型的偏置\n",
    "W = tf.Variable(tf.random_uniform([1, 2], -1.0, 1.0))  # 线性模型的参数\n",
    "y = tf.matmul(W, x_data) + b  # 线性模型y = Wx + b\n",
    "\n",
    "# 最小化方差\n",
    "loss = tf.reduce_mean(tf.square(y - y_data))\n",
    "optimizer = tf.train.GradientDescentOptimizer(0.5)\n",
    "train = optimizer.minimize(loss)\n",
    "\n",
    "\n",
    "# 初始化变量\n",
    "init = tf.initialize_all_variables()\n",
    "\n",
    "\n",
    "# 启动图(graph)\n",
    "sess = tf.Session()\n",
    "sess.run(init)\n",
    "\n",
    "\n",
    "# 拟合平面\n",
    "for step in range(0, 201):\n",
    "    sess.run(train)\n",
    "    if step % 20 == 0:\n",
    "        print(step, sess.run(W), sess.run(b))\n",
    "        \n",
    "# 得到最佳拟合效果 W: [[0.100 0.200]], b: [0.300]"
   ]
  },
  {
   "cell_type": "markdown",
   "metadata": {},
   "source": [
    "### 1.2. 训练你的第一个神经网络：basic classfication\n",
    "\n",
    "本教程训练了一个用于分类衣服图像的模型，例如鞋子和衬衫。本教程使用Tensorflow中用于构建和训练模型的高级API:[tf.keras](https://www.tensorflow.org/guide/keras?hl=zh-cn)"
   ]
  },
  {
   "cell_type": "code",
   "execution_count": 2,
   "metadata": {},
   "outputs": [
    {
     "name": "stdout",
     "output_type": "stream",
     "text": [
      "1.12.0\n"
     ]
    }
   ],
   "source": [
    "# Tensorflow and tf.keras\n",
    "import tensorflow as tf\n",
    "from tensorflow import keras\n",
    "\n",
    "# Helper libraries\n",
    "import numpy as np\n",
    "import matplotlib.pyplot as plt\n",
    "\n",
    "# verify ssl\n",
    "import ssl\n",
    "\n",
    "ssl._create_default_https_context = ssl._create_unverified_context  # 验证ssl证书，不然下载MNIST数据集时会报错\n",
    "\n",
    "print(tf.__version__)"
   ]
  },
  {
   "cell_type": "markdown",
   "metadata": {},
   "source": [
    "**导入[Fashion MNIST]()数据集**\n",
    "\n",
    "---\n",
    "\n",
    "本教程使用[Fashion MNIST]()数据集，其中包含了10个类别的70000张灰度图像。这些图像以28x28的低解析度展示每一个物件，正如下所示\n",
    "\n",
    "![](https://tensorflow.org/images/fashion-mnist-sprite.png?hl=zh-cn)\n",
    "\n",
    "[Fashion MNIST]: https://github.com/zalandoresearch/fashion-mnist\n",
    "\n",
    "Fashion MNIST旨在直接替换经典[MINIST](http://yann.lecun.com/exdb/mnist/)数据集--经常被用作计算机视觉领域的机器学习程序的“Hello world”示例。MINIST数据集包含28x28的手写数字（0，1，2等等）图片。\n",
    "\n",
    "出于多样性及更具挑战性的考虑，本教程使用了比经典MNIST数据集更具挑战性的Fashion MNIST数据集。两个数据集都相当的小，并经常用于验证一个算法是否达到预期效果，适用于开始学习、测试和debug代码。\n",
    "\n",
    "我们使用60000张图片作为训练集，10000图片作为测试集。我们可以直接从Tensorflow中获取Fashion MINIST数据集，只需导入并加载数据：\n"
   ]
  },
  {
   "cell_type": "code",
   "execution_count": 3,
   "metadata": {},
   "outputs": [],
   "source": [
    "fashion_mnist = keras.datasets.fashion_mnist\n",
    "\n",
    "(train_images, train_labels), (test_images, test_labels) = fashion_mnist.load_data()"
   ]
  },
  {
   "cell_type": "markdown",
   "metadata": {},
   "source": [
    "加载数据集返回4个Numpy arrays：\n",
    "\n",
    "+ 训练数据集：`train_image`和`train_labels`;\n",
    "+ 测试数据集：`test_image`和`test_labels`;\n",
    "\n",
    "`images`是28x28的numpy arrays，像素值范围为0~255。`labels`是整型数数组，取值范围为0～9.每张图片对应一个label，除此之外,我们还需要在代码上补充一下每个类别的名称,组成一个list,代码如下:"
   ]
  },
  {
   "cell_type": "code",
   "execution_count": 4,
   "metadata": {},
   "outputs": [],
   "source": [
    "class_names = ['T-shirt/top', 'Trouser', 'Pullover', 'Dress', 'Coat', \n",
    "               'Sandal', 'Shirt', 'Sneaker', 'Bag', 'Ankle boot']\n"
   ]
  },
  {
   "cell_type": "markdown",
   "metadata": {},
   "source": [
    "**探索数据**\n",
    "\n",
    "---\n",
    "\n",
    "让我们来探索下训练数据集的格式。如下展示训练数据集包含60000张图片，每张图片表示为28x28的像素点："
   ]
  },
  {
   "cell_type": "code",
   "execution_count": 5,
   "metadata": {},
   "outputs": [
    {
     "name": "stdout",
     "output_type": "stream",
     "text": [
      "train_images:\n",
      "[[[0 0 0 ... 0 0 0]\n",
      "  [0 0 0 ... 0 0 0]\n",
      "  [0 0 0 ... 0 0 0]\n",
      "  ...\n",
      "  [0 0 0 ... 0 0 0]\n",
      "  [0 0 0 ... 0 0 0]\n",
      "  [0 0 0 ... 0 0 0]]\n",
      "\n",
      " [[0 0 0 ... 0 0 0]\n",
      "  [0 0 0 ... 0 0 0]\n",
      "  [0 0 0 ... 0 0 0]\n",
      "  ...\n",
      "  [0 0 0 ... 0 0 0]\n",
      "  [0 0 0 ... 0 0 0]\n",
      "  [0 0 0 ... 0 0 0]]\n",
      "\n",
      " [[0 0 0 ... 0 0 0]\n",
      "  [0 0 0 ... 0 0 0]\n",
      "  [0 0 0 ... 0 0 0]\n",
      "  ...\n",
      "  [0 0 0 ... 0 0 0]\n",
      "  [0 0 0 ... 0 0 0]\n",
      "  [0 0 0 ... 0 0 0]]\n",
      "\n",
      " ...\n",
      "\n",
      " [[0 0 0 ... 0 0 0]\n",
      "  [0 0 0 ... 0 0 0]\n",
      "  [0 0 0 ... 0 0 0]\n",
      "  ...\n",
      "  [0 0 0 ... 0 0 0]\n",
      "  [0 0 0 ... 0 0 0]\n",
      "  [0 0 0 ... 0 0 0]]\n",
      "\n",
      " [[0 0 0 ... 0 0 0]\n",
      "  [0 0 0 ... 0 0 0]\n",
      "  [0 0 0 ... 0 0 0]\n",
      "  ...\n",
      "  [0 0 0 ... 0 0 0]\n",
      "  [0 0 0 ... 0 0 0]\n",
      "  [0 0 0 ... 0 0 0]]\n",
      "\n",
      " [[0 0 0 ... 0 0 0]\n",
      "  [0 0 0 ... 0 0 0]\n",
      "  [0 0 0 ... 0 0 0]\n",
      "  ...\n",
      "  [0 0 0 ... 0 0 0]\n",
      "  [0 0 0 ... 0 0 0]\n",
      "  [0 0 0 ... 0 0 0]]]\n",
      "***************************************************************************\n",
      "train_labels [9 0 0 ... 3 0 5]\n",
      "***************************************************************************\n",
      "test_images:\n",
      "[[[0 0 0 ... 0 0 0]\n",
      "  [0 0 0 ... 0 0 0]\n",
      "  [0 0 0 ... 0 0 0]\n",
      "  ...\n",
      "  [0 0 0 ... 0 0 0]\n",
      "  [0 0 0 ... 0 0 0]\n",
      "  [0 0 0 ... 0 0 0]]\n",
      "\n",
      " [[0 0 0 ... 0 0 0]\n",
      "  [0 0 0 ... 0 0 0]\n",
      "  [0 0 0 ... 0 0 0]\n",
      "  ...\n",
      "  [0 0 0 ... 0 0 0]\n",
      "  [0 0 0 ... 0 0 0]\n",
      "  [0 0 0 ... 0 0 0]]\n",
      "\n",
      " [[0 0 0 ... 0 0 0]\n",
      "  [0 0 0 ... 0 0 0]\n",
      "  [0 0 0 ... 0 0 0]\n",
      "  ...\n",
      "  [0 0 0 ... 0 0 0]\n",
      "  [0 0 0 ... 0 0 0]\n",
      "  [0 0 0 ... 0 0 0]]\n",
      "\n",
      " ...\n",
      "\n",
      " [[0 0 0 ... 0 0 0]\n",
      "  [0 0 0 ... 0 0 0]\n",
      "  [0 0 0 ... 0 0 0]\n",
      "  ...\n",
      "  [0 0 0 ... 0 0 0]\n",
      "  [0 0 0 ... 0 0 0]\n",
      "  [0 0 0 ... 0 0 0]]\n",
      "\n",
      " [[0 0 0 ... 0 0 0]\n",
      "  [0 0 0 ... 0 0 0]\n",
      "  [0 0 0 ... 0 0 0]\n",
      "  ...\n",
      "  [0 0 0 ... 0 0 0]\n",
      "  [0 0 0 ... 0 0 0]\n",
      "  [0 0 0 ... 0 0 0]]\n",
      "\n",
      " [[0 0 0 ... 0 0 0]\n",
      "  [0 0 0 ... 0 0 0]\n",
      "  [0 0 0 ... 0 0 0]\n",
      "  ...\n",
      "  [0 0 0 ... 0 0 0]\n",
      "  [0 0 0 ... 0 0 0]\n",
      "  [0 0 0 ... 0 0 0]]]\n",
      "***************************************************************************\n",
      "test_labels [9 2 1 ... 8 1 5]\n",
      "***************************************************************************\n",
      "train_images.shape: (60000, 28, 28)\n",
      "train_labels.shape: (60000,)\n",
      "test_images.shape: (10000, 28, 28)\n",
      "test_labels.shape: (10000,)\n"
     ]
    }
   ],
   "source": [
    "print('train_images:', train_images, sep='\\n')\n",
    "print('*****' * 15)\n",
    "print('train_labels', train_labels)\n",
    "print('*****' * 15)\n",
    "print('test_images:', test_images, sep='\\n')\n",
    "print('*****' * 15)\n",
    "print('test_labels', test_labels)\n",
    "print('*****' * 15)\n",
    "\n",
    "print('train_images.shape:', train_images.shape)\n",
    "\n",
    "# 相似地，在训练数据集中有60000个标签\n",
    "print('train_labels.shape:', train_labels.shape)\n",
    "\n",
    "print('test_images.shape:', test_images.shape)\n",
    "\n",
    "# 相似地，在训练数据集中有60000个标签\n",
    "print('test_labels.shape:', test_labels.shape)"
   ]
  },
  {
   "cell_type": "markdown",
   "metadata": {},
   "source": [
    "**数据预处理**\n",
    "\n",
    "---\n",
    "\n",
    "训练数据之前必须对数据进行预处理。如果你观察训练数据的第一张图片，你会发现像素点取值范围为0～255:"
   ]
  },
  {
   "cell_type": "code",
   "execution_count": 6,
   "metadata": {},
   "outputs": [
    {
     "data": {
      "image/png": "[encoded data removed]",
      "text/plain": [
       "<Figure size 432x288 with 2 Axes>"
      ]
     },
     "metadata": {
      "needs_background": "light"
     },
     "output_type": "display_data"
    }
   ],
   "source": [
    "plt.figure()\n",
    "plt.imshow(train_images[0])\n",
    "plt.colorbar()\n",
    "plt.grid(False)"
   ]
  },
  {
   "cell_type": "markdown",
   "metadata": {},
   "source": [
    "对像素点进行max-min归一化："
   ]
  },
  {
   "cell_type": "code",
   "execution_count": 7,
   "metadata": {},
   "outputs": [],
   "source": [
    "train_images = train_images / 255.0\n",
    "test_images = test_images / 255.0"
   ]
  },
  {
   "cell_type": "markdown",
   "metadata": {},
   "source": [
    "展示并验证前25张图片及其标签是否匹配"
   ]
  },
  {
   "cell_type": "code",
   "execution_count": 8,
   "metadata": {},
   "outputs": [
    {
     "data": {
      "image/png": "[encoded data removed]",
      "text/plain": [
       "<Figure size 720x720 with 25 Axes>"
      ]
     },
     "metadata": {},
     "output_type": "display_data"
    }
   ],
   "source": [
    "plt.figure(figsize=(10, 10))\n",
    "for i in range(25):\n",
    "    plt.subplot(5, 5, i+1)\n",
    "    plt.xticks([])\n",
    "    plt.yticks([])\n",
    "    plt.grid(False)\n",
    "    plt.imshow(train_images[i], cmap=plt.cm.binary)\n",
    "    plt.xlabel(class_names[train_labels[i]])\n"
   ]
  },
  {
   "cell_type": "markdown",
   "metadata": {},
   "source": [
    "**构建模型**\n",
    "\n",
    "---\n",
    "\n",
    "构建神经网络需要配置模型的层layers，并编辑compiling模型。\n",
    "\n",
    "**配置layers**\n",
    "\n",
    "神经网络的基础构建模块是层layer。层layers从输入数据中抽取representations。并且，这些representations对当前问题更有意义。\n",
    "\n",
    "大多数神经网络由串接的简单层组成。大多数层layers，例如，`tf.keras.layers.Dense`包含需要去学习的参数。"
   ]
  },
  {
   "cell_type": "code",
   "execution_count": 9,
   "metadata": {},
   "outputs": [],
   "source": [
    "model = keras.Sequential([  # 使用的是序贯模型：单输入单输出，层间只有相邻关系，没有跨层连接\n",
    "    keras.layers.Flatten(input_shape=(28, 28)),  # 输入层，将28x28的2维数组转换成784的1维数组\n",
    "    keras.layers.Dense(128, activation=tf.nn.relu),  # 全连接层，输出为128维空间，即128个神经元，激活函数是relu\n",
    "    keras.layers.Dense(10, activation=tf.nn.softmax)  # 输出softmax层，输出维10维空间，即10个神经元，softmax变换后\n",
    "                                                      # 输出为10个概率值，且求和为1\n",
    "])\n"
   ]
  },
  {
   "cell_type": "markdown",
   "metadata": {},
   "source": [
    "代码部分注释：\n",
    "\n",
    "1. keras.layers.Flatten():\n",
    "```\n",
    "tensorflow.keras.layers.Flatten = class Flatten(tensorflow.python.keras.engine.base_layer.Layer)\n",
    " |  Flattens the input. Does not affect the batch size.\n",
    " |\n",
    " |  Arguments:\n",
    " |      data_format: A string,\n",
    " |          one of `channels_last` (default) or `channels_first`.\n",
    " |          The ordering of the dimensions in the inputs.\n",
    " |          `channels_last` corresponds to inputs with shape\n",
    " |          `(batch, ..., channels)` while `channels_first` corresponds to\n",
    " |          inputs with shape `(batch, channels, ...)`.\n",
    " |          It defaults to the `image_data_format` value found in your\n",
    " |          Keras config file at `~/.keras/keras.json`.\n",
    " |          If you never set it, then it will be \"channels_last\".\n",
    " |\n",
    " |  Example:\n",
    " |\n",
    " |     python\n",
    " |      model = Sequential()\n",
    " |      model.add(Convolution2D(64, 3, 3,\n",
    " |                              border_mode='same',\n",
    " |                              input_shape=(3, 32, 32)))\n",
    " |      # now: model.output_shape == (None, 64, 32, 32)\n",
    " |      model.add(Flatten())\n",
    " |      # now: model.output_shape == (None, 65536)\n",
    "```\n",
    " \n",
    "2. keras.layers.Dense():\n",
    " ```\n",
    " tensorflow.keras.layers.Dense = class Dense(tensorflow.python.keras.engine.base_layer.Layer)\n",
    " |  Just your regular densely-connected NN layer.\n",
    " |\n",
    " |  `Dense` implements the operation:\n",
    " |  `output = activation(dot(input, kernel) + bias)`\n",
    " |  where `activation` is the element-wise activation function\n",
    " |  passed as the `activation` argument, `kernel` is a weights matrix\n",
    " |  created by the layer, and `bias` is a bias vector created by the layer\n",
    " |  (only applicable if `use_bias` is `True`).\n",
    " |\n",
    " |  Note: if the input to the layer has a rank greater than 2, then\n",
    " |  it is flattened prior to the initial dot product with `kernel`.\n",
    " |\n",
    " |  Example:\n",
    " |\n",
    " |     python\n",
    " |      # as first layer in a sequential model:\n",
    " |      model = Sequential()\n",
    " |      model.add(Dense(32, input_shape=(16,)))\n",
    " |      # now the model will take as input arrays of shape (*, 16)\n",
    " |      # and output arrays of shape (*, 32)\n",
    " |\n",
    " |      # after the first layer, you don't need to specify\n",
    " |      # the size of the input anymore:\n",
    " |      model.add(Dense(32))\n",
    " |  \n",
    " |\n",
    " |  Arguments:\n",
    " |      units: Positive integer, dimensionality of the output space.\n",
    " |      activation: Activation function to use.\n",
    " |          If you don't specify anything, no activation is applied\n",
    " |          (ie. \"linear\" activation: `a(x) = x`).\n",
    " |      use_bias: Boolean, whether the layer uses a bias vector.\n",
    " |      kernel_initializer: Initializer for the `kernel` weights matrix.\n",
    " |      bias_initializer: Initializer for the bias vector.\n",
    " |      kernel_regularizer: Regularizer function applied to\n",
    " |          the `kernel` weights matrix.\n",
    " |      bias_regularizer: Regularizer function applied to the bias vector.\n",
    " |      activity_regularizer: Regularizer function applied to\n",
    " |          the output of the layer (its \"activation\")..\n",
    " |      kernel_constraint: Constraint function applied to\n",
    " |          the `kernel` weights matrix.\n",
    " |      bias_constraint: Constraint function applied to the bias vector.\n",
    " |\n",
    " |  Input shape:\n",
    " |      nD tensor with shape: `(batch_size, ..., input_dim)`.\n",
    " |      The most common situation would be\n",
    " |      a 2D input with shape `(batch_size, input_dim)`.\n",
    " |\n",
    " |  Output shape:\n",
    " |      nD tensor with shape: `(batch_size, ..., units)`.\n",
    " |      For instance, for a 2D input with shape `(batch_size, input_dim)`,\n",
    " |      the output would have shape `(batch_size, units)`.\n",
    "```\n",
    "\n",
    "3. tensorflow.nn.relu():\n",
    "```\n",
    "tensorflow.nn.relu = relu(features, name=None)\n",
    "    Computes rectified linear: `max(features, 0)`.\n",
    "\n",
    "    Args:\n",
    "      features: A `Tensor`. Must be one of the following types: `float32`, `float64`, `int32`, `uint8`, `int16`, `int8`, `int64`, `bfloat16`, `uint16`, `half`, `uint32`, `uint64`, `qint8`.\n",
    "      name: A name for the operation (optional).\n",
    "\n",
    "    Returns:\n",
    "      A `Tensor`. Has the same type as `features`.\n",
    "```\n",
    "\n",
    "4. tensorflow.nn.softmax():\n",
    "```\n",
    "tensorflow.nn.softmax = softmax(logits, axis=None, name=None, dim=None)\n",
    "    Computes softmax activations. (deprecated arguments)\n",
    "\n",
    "    SOME ARGUMENTS ARE DEPRECATED. They will be removed in a future version.\n",
    "    Instructions for updating:\n",
    "    dim is deprecated, use axis instead\n",
    "\n",
    "    This function performs the equivalent of\n",
    "\n",
    "        softmax = tf.exp(logits) / tf.reduce_sum(tf.exp(logits), axis)\n",
    "\n",
    "    Args:\n",
    "      logits: A non-empty `Tensor`. Must be one of the following types: `half`,\n",
    "        `float32`, `float64`.\n",
    "      axis: The dimension softmax would be performed on. The default is -1 which\n",
    "        indicates the last dimension.\n",
    "      name: A name for the operation (optional).\n",
    "      dim: Deprecated alias for `axis`.\n",
    "\n",
    "    Returns:\n",
    "      A `Tensor`. Has the same type and shape as `logits`.\n",
    "\n",
    "    Raises:\n",
    "      InvalidArgumentError: if `logits` is empty or `axis` is beyond the last\n",
    "        dimension of `logits`.\n",
    "```"
   ]
  },
  {
   "cell_type": "markdown",
   "metadata": {},
   "source": [
    "**编译模型**\n",
    "\n",
    "在模型能够进行训练之前，仍需要对模型进行一些配置。这些配置在模型的编译步骤时加上：\n",
    "+ 损失函数--损失的度量方式，这里使用的是'sparse_categorical_crossentropy'；\n",
    "+ 优化器--采用何种方式寻找最佳答案，这里使用的是AdamOptimizer；\n",
    "+ 度量准则--这里使用的是准确率，也就是正确归类的图像的概率；"
   ]
  },
  {
   "cell_type": "code",
   "execution_count": 10,
   "metadata": {},
   "outputs": [],
   "source": [
    "model.compile(optimizer=tf.train.AdamOptimizer(),\n",
    "              loss='sparse_categorical_crossentropy',\n",
    "              metrics=['accuracy'])\n"
   ]
  },
  {
   "cell_type": "markdown",
   "metadata": {},
   "source": [
    "**训练模型**\n",
    "\n",
    "---\n",
    "\n",
    "训练神经网络需要如下步骤：\n",
    "1. 将数据输入到模型中--在这个例子中，即`train_images`和`train_labels`arrays；\n",
    "2. 训练模型学习images和labels之间的关联关系；\n",
    "3. 模型在测试数据集上预测--在这个例子中，即`test_images`array，并使用`test_labels`来验证模型的预测是否准确；\n",
    "\n",
    "调用`model.fit`方法来开始训练模型--模型不断拟合fit训练数据："
   ]
  },
  {
   "cell_type": "code",
   "execution_count": 11,
   "metadata": {},
   "outputs": [
    {
     "name": "stdout",
     "output_type": "stream",
     "text": [
      "Epoch 1/5\n",
      "60000/60000 [==============================] - 5s 79us/step - loss: 0.4953 - acc: 0.8256\n",
      "Epoch 2/5\n",
      "60000/60000 [==============================] - 4s 72us/step - loss: 0.3737 - acc: 0.8649\n",
      "Epoch 3/5\n",
      "60000/60000 [==============================] - 5s 76us/step - loss: 0.3353 - acc: 0.8780\n",
      "Epoch 4/5\n",
      "60000/60000 [==============================] - 4s 75us/step - loss: 0.3135 - acc: 0.8834\n",
      "Epoch 5/5\n",
      "60000/60000 [==============================] - 4s 74us/step - loss: 0.2957 - acc: 0.8906\n"
     ]
    },
    {
     "data": {
      "text/plain": [
       "<tensorflow.python.keras.callbacks.History at 0x1298da128>"
      ]
     },
     "execution_count": 11,
     "metadata": {},
     "output_type": "execute_result"
    }
   ],
   "source": [
    "model.fit(train_images, train_labels, epochs=5)  # 进行5轮迭代epochs，模型拟合训练集"
   ]
  },
  {
   "cell_type": "markdown",
   "metadata": {},
   "source": [
    "在模型训练过程中，损失和准确率准则都实时显示。\n",
    "\n",
    "**评估准确率**\n",
    "\n",
    "---\n",
    "\n",
    "现在测试模型在测试集上的表现："
   ]
  },
  {
   "cell_type": "code",
   "execution_count": 12,
   "metadata": {},
   "outputs": [
    {
     "name": "stdout",
     "output_type": "stream",
     "text": [
      "10000/10000 [==============================] - 1s 50us/step\n",
      "Test Accuracy: 0.8754\n"
     ]
    }
   ],
   "source": [
    "test_loss, test_acc = model.evaluate(test_images, test_labels)\n",
    "\n",
    "print(\"Test Accuracy:\", test_acc)"
   ]
  },
  {
   "cell_type": "markdown",
   "metadata": {},
   "source": [
    "it turns out, the accuracy on the test dataset is a little less than the accuracy on the training dataset. This gap between training accuracy and test accuracy is an example of overfitting. Overfitting is when a machine learning model performs worse on new data than on their training data.\n",
    "\n",
    "**使用模型进行预测**\n",
    "\n",
    "---\n",
    "\n",
    "使用训练好的模型，我们可以对一些图片进行预测："
   ]
  },
  {
   "cell_type": "code",
   "execution_count": 13,
   "metadata": {},
   "outputs": [
    {
     "name": "stdout",
     "output_type": "stream",
     "text": [
      "[7.3622126e-05 2.7868782e-07 2.1912488e-06 3.2629356e-07 6.7555366e-06\n",
      " 3.0807301e-03 1.7882269e-04 3.4034282e-02 9.8885139e-05 9.6252406e-01]\n",
      "<class 'numpy.ndarray'>\n"
     ]
    }
   ],
   "source": [
    "predictions = model.predict(test_images)\n",
    "\n",
    "print(predictions[0], type(predictions), sep='\\n')"
   ]
  },
  {
   "cell_type": "markdown",
   "metadata": {},
   "source": [
    "model.predict()返回的是一个array,我们每一个元素是对一个图像的预测结果,这个预测结果是一个一维的包含10个概率的数组,概率最大的元素的下标就是结果."
   ]
  },
  {
   "cell_type": "code",
   "execution_count": 14,
   "metadata": {},
   "outputs": [
    {
     "name": "stdout",
     "output_type": "stream",
     "text": [
      "predicts label: 9\n",
      "true label: 9\n"
     ]
    }
   ],
   "source": [
    "print('predicts label:', np.argmax(predictions[0]))  # argmax返回最大元素的索引\n",
    "print('true label:', test_labels[0])\n"
   ]
  },
  {
   "cell_type": "markdown",
   "metadata": {},
   "source": [
    "我们可以画图来观察这组10元素的输出："
   ]
  },
  {
   "cell_type": "code",
   "execution_count": 15,
   "metadata": {},
   "outputs": [],
   "source": [
    "def plot_image(i, predictions_array, true_label, img):\n",
    "    predictions_array, true_label, img = predictions_array[i], true_label[i], img[i]\n",
    "    plt.grid(False)\n",
    "    plt.xticks([])\n",
    "    plt.yticks([])\n",
    "    \n",
    "    plt.imshow(img, cmap=plt.cm.binary)\n",
    "    \n",
    "    predicted_label = np.argmax(predictions_array)  # argmax返回最大元素的索引\n",
    "    if predicted_label == true_label:\n",
    "        color = 'blue'\n",
    "    else:\n",
    "        color = 'red'\n",
    "    \n",
    "    plt.xlabel(\"{} {:2.0f}% ({})\".format(class_names[predicted_label],\n",
    "                                         100*np.max(predictions_array),  # max返回最大元素值\n",
    "                                         class_names[true_label]),\n",
    "                                         color=color)\n",
    "    \n",
    "def plot_value_array(i, predictions_array, true_label):\n",
    "    predictions_array, true_label = predictions_array[i], true_label[i]\n",
    "    plt.grid(False)\n",
    "    plt.xticks([])\n",
    "    plt.yticks([])\n",
    "    thisplot = plt.bar(range(10), predictions_array, color='#777777')\n",
    "    plt.ylim([0, 1])\n",
    "    predicted_label = np.argmax(predictions_array)\n",
    "    \n",
    "    thisplot[predicted_label].set_color('red')\n",
    "    thisplot[true_label].set_color('blue')\n",
    "\n"
   ]
  },
  {
   "cell_type": "code",
   "execution_count": 16,
   "metadata": {},
   "outputs": [
    {
     "data": {
      "image/png": "[encoded data removed]",
      "text/plain": [
       "<Figure size 432x216 with 2 Axes>"
      ]
     },
     "metadata": {},
     "output_type": "display_data"
    }
   ],
   "source": [
    "i = 12\n",
    "plt.figure(figsize=(6, 3))\n",
    "plt.subplot(1, 2, 1)\n",
    "plot_image(i, predictions, test_labels, test_images)\n",
    "plt.subplot(1, 2, 2)\n",
    "plot_value_array(i, predictions, test_labels)"
   ]
  },
  {
   "cell_type": "code",
   "execution_count": 17,
   "metadata": {},
   "outputs": [
    {
     "data": {
      "image/png": "[encoded data removed]",
      "text/plain": [
       "<Figure size 864x720 with 30 Axes>"
      ]
     },
     "metadata": {},
     "output_type": "display_data"
    }
   ],
   "source": [
    "# Plot the first X test images, their predicted label, and the true label\n",
    "# Color correct predictions in blue, incorrect predictions in red\n",
    "num_rows = 5\n",
    "num_cols = 3\n",
    "num_images = num_rows*num_cols\n",
    "plt.figure(figsize=(2*2*num_cols, 2*num_rows))\n",
    "for i in range(num_images):\n",
    "  plt.subplot(num_rows, 2*num_cols, 2*i+1)\n",
    "  plot_image(i, predictions, test_labels, test_images)\n",
    "  plt.subplot(num_rows, 2*num_cols, 2*i+2)\n",
    "  plot_value_array(i, predictions, test_labels)\n"
   ]
  },
  {
   "cell_type": "markdown",
   "metadata": {},
   "source": [
    "最后，我们使用训练好的模型来对一张图片进行预测"
   ]
  },
  {
   "cell_type": "code",
   "execution_count": 18,
   "metadata": {},
   "outputs": [
    {
     "name": "stdout",
     "output_type": "stream",
     "text": [
      "(28, 28)\n"
     ]
    }
   ],
   "source": [
    "# Grab an image from the test dataset\n",
    "img = test_images[0]\n",
    "\n",
    "print(img.shape)"
   ]
  },
  {
   "cell_type": "markdown",
   "metadata": {},
   "source": [
    "`tf.keras`模型被优化以能够一次性对一批batch，或者一集合collections的样本点进行预测。所以即使我们仅对一张图片进行预测，我们也要将其转换成列表："
   ]
  },
  {
   "cell_type": "code",
   "execution_count": 19,
   "metadata": {},
   "outputs": [
    {
     "name": "stdout",
     "output_type": "stream",
     "text": [
      "(1, 28, 28)\n"
     ]
    }
   ],
   "source": [
    "# Add the image to a batch where it's the only member.\n",
    "img = (np.expand_dims(img, 0))\n",
    "\n",
    "print(img.shape)"
   ]
  },
  {
   "cell_type": "markdown",
   "metadata": {},
   "source": [
    "1. numpy.expand_dims():\n",
    "```\n",
    "numpy.expand_dims = expand_dims(a, axis)\n",
    "    Expand the shape of an array.\n",
    "\n",
    "    Insert a new axis that will appear at the `axis` position in the expanded\n",
    "    array shape.\n",
    "\n",
    "    .. note:: Previous to NumPy 1.13.0, neither ``axis < -a.ndim - 1`` nor\n",
    "       ``axis > a.ndim`` raised errors or put the new axis where documented.\n",
    "       Those axis values are now deprecated and will raise an AxisError in the\n",
    "       future.\n",
    "\n",
    "    Parameters\n",
    "    ----------\n",
    "    a : array_like\n",
    "        Input array.\n",
    "    axis : int\n",
    "        Position in the expanded axes where the new axis is placed.\n",
    "\n",
    "    Returns\n",
    "    -------\n",
    "    res : ndarray\n",
    "        Output array. The number of dimensions is one greater than that of\n",
    "        the input array.\n",
    "```\n",
    "\n",
    "接着，我们预测图片："
   ]
  },
  {
   "cell_type": "code",
   "execution_count": 20,
   "metadata": {},
   "outputs": [
    {
     "name": "stdout",
     "output_type": "stream",
     "text": [
      "[[7.3622126e-05 2.7868833e-07 2.1912426e-06 3.2629421e-07 6.7555297e-06\n",
      "  3.0807289e-03 1.7882287e-04 3.4034301e-02 9.8885139e-05 9.6252406e-01]]\n"
     ]
    },
    {
     "data": {
      "image/png": "[encoded data removed]",
      "text/plain": [
       "<Figure size 432x288 with 1 Axes>"
      ]
     },
     "metadata": {
      "needs_background": "light"
     },
     "output_type": "display_data"
    }
   ],
   "source": [
    "predictions_single = model.predict(img)\n",
    "\n",
    "print(predictions_single)\n",
    "\n",
    "plot_value_array(0, predictions_single, test_labels)\n",
    "\n",
    "_ = plt.xticks(range(10), class_names, rotation=45)\n",
    "\n"
   ]
  },
  {
   "cell_type": "code",
   "execution_count": 21,
   "metadata": {},
   "outputs": [
    {
     "name": "stdout",
     "output_type": "stream",
     "text": [
      "_________________________________________________________________\n",
      "Layer (type)                 Output Shape              Param #   \n",
      "=================================================================\n",
      "flatten (Flatten)            (None, 784)               0         \n",
      "_________________________________________________________________\n",
      "dense (Dense)                (None, 128)               100480    \n",
      "_________________________________________________________________\n",
      "dense_1 (Dense)              (None, 10)                1290      \n",
      "=================================================================\n",
      "Total params: 101,770\n",
      "Trainable params: 101,770\n",
      "Non-trainable params: 0\n",
      "_________________________________________________________________\n"
     ]
    }
   ],
   "source": [
    "# 查看模型概况\n",
    "model.summary()"
   ]
  },
  {
   "cell_type": "code",
   "execution_count": 28,
   "metadata": {},
   "outputs": [
    {
     "name": "stdout",
     "output_type": "stream",
     "text": [
      "Tensor(\"flatten_input:0\", shape=(?, 28, 28), dtype=float32)\n",
      "Tensor(\"dense_1/Softmax:0\", shape=(?, 10), dtype=float32)\n"
     ]
    }
   ],
   "source": [
    "print(model.input)\n",
    "print(model.output)"
   ]
  },
  {
   "cell_type": "markdown",
   "metadata": {},
   "source": [
    "测试将tensorflow keras模型以tensorflow SavedModel格式保存并导出"
   ]
  },
  {
   "cell_type": "code",
   "execution_count": 40,
   "metadata": {},
   "outputs": [
    {
     "name": "stdout",
     "output_type": "stream",
     "text": [
      "b'/Users/mac/github-local-repos/ClassNotes/NeuralNetwork/tensorflow_learnings/basic_classification/1'\n",
      "INFO:tensorflow:No assets to save.\n",
      "INFO:tensorflow:No assets to write.\n",
      "INFO:tensorflow:SavedModel written to: /Users/mac/github-local-repos/ClassNotes/NeuralNetwork/tensorflow_learnings/basic_classification/1/saved_model.pb\n"
     ]
    },
    {
     "data": {
      "text/plain": [
       "b'/Users/mac/github-local-repos/ClassNotes/NeuralNetwork/tensorflow_learnings/basic_classification/1/saved_model.pb'"
      ]
     },
     "execution_count": 40,
     "metadata": {},
     "output_type": "execute_result"
    }
   ],
   "source": [
    "import os\n",
    "model_version = 1\n",
    "export_path_base = './basic_classification'\n",
    "export_path = os.path.abspath(os.path.join(\n",
    "        tf.compat.as_bytes(export_path_base),\n",
    "        tf.compat.as_bytes(str(model_version))\n",
    "    ))\n",
    "print(export_path)\n",
    "\n",
    "# 创建SavedModelBuilder\n",
    "builder = tf.saved_model.builder.SavedModelBuilder(export_path)\n",
    "\n",
    "tensor_info_x = tf.saved_model.utils.build_tensor_info(model.input)\n",
    "tensor_info_y = tf.saved_model.utils.build_tensor_info(model.output)\n",
    "\n",
    "predict_signature = (tf.saved_model.signature_def_utils.build_signature_def(\n",
    "                            inputs={'image':tensor_info_x},\n",
    "                            outputs={'soft_scores': tensor_info_y},\n",
    "                            method_name=tf.saved_model.signature_constants.PREDICT_METHOD_NAME\n",
    "                        ))\n",
    "\n",
    "builder.add_meta_graph_and_variables(\n",
    "    tf.keras.backend.get_session(),\n",
    "    [tf.saved_model.tag_constants.SERVING],\n",
    "    signature_def_map = {\n",
    "       \"predict_dist\": predict_signature\n",
    "    },\n",
    "    strip_default_attrs = True\n",
    ")\n",
    "\n",
    "builder.save()\n",
    "\n"
   ]
  },
  {
   "cell_type": "markdown",
   "metadata": {},
   "source": [
    "测试使用tensorflow serving发布的basic classification模型效果"
   ]
  },
  {
   "cell_type": "code",
   "execution_count": 27,
   "metadata": {},
   "outputs": [
    {
     "data": {
      "text/plain": [
       "'{\\n    \"predictions\": [[2.95094e-07, 6.71266e-08, 1.64979e-07, 4.43438e-08, 2.06689e-07, 0.00412871, 1.51308e-07, 0.023241, 9.55227e-06, 0.97262]\\n    ]\\n}'"
      ]
     },
     "execution_count": 27,
     "metadata": {},
     "output_type": "execute_result"
    }
   ],
   "source": [
    "import requests\n",
    "req_json = {\"signature_name\": \"predict_dist\", \"instances\": [ img.tolist() ]}\n",
    "r = requests.post('http://localhost:8501/v1/models/basic_classification:predict', json=req_json)\n",
    "r.text"
   ]
  },
  {
   "cell_type": "code",
   "execution_count": null,
   "metadata": {},
   "outputs": [],
   "source": []
  }
 ],
 "metadata": {
  "kernelspec": {
   "display_name": "Python (ml)",
   "language": "python",
   "name": "ml"
  },
  "language_info": {
   "codemirror_mode": {
    "name": "ipython",
    "version": 3
   },
   "file_extension": ".py",
   "mimetype": "text/x-python",
   "name": "python",
   "nbconvert_exporter": "python",
   "pygments_lexer": "ipython3",
   "version": "3.6.0"
  }
 },
 "nbformat": 4,
 "nbformat_minor": 2
}
