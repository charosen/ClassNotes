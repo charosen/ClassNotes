{
 "cells": [
  {
   "cell_type": "markdown",
   "metadata": {},
   "source": [
    "## 2. Tensorflow Low Level API\n",
    "\n",
    "### 2.2. 张量Tensors\n",
    "\n",
    "Tensorflow是定义和执行张量计算的一个框架。张量是对矢量和矩阵向潜在的更高维度的泛化。TensorFlow在内部将张量表示为基本数据类型的n维数组。\n",
    "\n",
    "张量与张量值的定义：\n",
    "\n",
    "1. 张量Tensor是操作(op)的输出的一个符号句柄symbolic handle。张量Tensor不包含操作(op)的输出值，只提供在Tensorflow`tf.Session`中计算输出值的方法。\n",
    "\n",
    "2. 张量值为numpy数组(基本数据类型的n维数组)；\n",
    "\n",
    "张量Tensor类有两个目的：\n",
    "\n",
    "1. 张量`Tensor`可以作为参数传给另一个操作(op)的输入，这在操作(op)之间创建数据流连接，使得Tensorflow可以执行整个表示a large, multi-step计算的计算流图；\n",
    "2. 在session中执行计算流图之后，可以将张量`Tensor`传递给`tf.Session.run`来计算张量值。\n",
    "\n",
    "张量Tensor属性：\n",
    "\n",
    "1. `device`: 生成此张量的设备名，或`None`；\n",
    "2. **`dtype`**: 元素数据类型；\n",
    "3. `graph`: 包含此张量的计算流图对象`Graph`；\n",
    "4. `name`: 张量的名字字符串；\n",
    "5. `op`: 以该张量为输出的操作对象`Operation`；\n",
    "6. **`shape`**: 返回表示张量形状的`TensorShape`对象；\n",
    "7. `value_index`: 此张量在操作对象`Operation`的输出索引；\n",
    "\n",
    ">Ps: 张量的dtype一定是已知的。shape，即张量的维数和每个维度的大小，可能只有部分已知。\n",
    "\n",
    "特殊类型张量：\n",
    "\n",
    "+ [tf.Variable](https://www.tensorflow.org/api_docs/python/tf/Variable)\n",
    "+ [tf.constant](https://www.tensorflow.org/api_docs/python/tf/constant)\n",
    "+ [tf.placeholder](https://www.tensorflow.org/api_docs/python/tf/placeholder)\n",
    "+ [tf.SparseTensor](https://www.tensorflow.org/api_docs/python/tf/SparseTensor)\n",
    "\n",
    "除了[tf.Variable](https://www.tensorflow.org/api_docs/python/tf/Variable)以外，张量的值是不可变的，即对于单次执行`tf.Session.run`，张量只有一个值。\n",
    "\n",
    "\n",
    "**张量的阶rank：张量的维数**\n",
    "\n",
    "---\n",
    "\n",
    "注意：张量的阶rank不同于矩阵的秩rank\n",
    "\n",
    "Rank | Math entity\n",
    "------ | ----------\n",
    "0 | Scalar (magnitude only)\n",
    "1 | Vector (magnitude and direction)\n",
    "2 | Matrix (table of numbers)\n",
    "3 | 3-Tensor (cube of numbers)\n",
    "n | n-Tensor (自行想象)\n",
    "\n",
    "\n",
    "**0阶张量**\n",
    "\n",
    "0阶张量创建方法如下，张量将字符串视作单一元素，而不是一连串字符元素："
   ]
  },
  {
   "cell_type": "code",
   "execution_count": 3,
   "metadata": {},
   "outputs": [],
   "source": [
    "import tensorflow as tf\n",
    "\n",
    "mammal = tf.Variable(\"Elephant\", tf.string)\n",
    "ignition = tf.Variable(451, tf.int16)\n",
    "floating = tf.Variable(3.14159265359, tf.float64)\n",
    "its_complicated = tf.Variable(12.3 - 4.85j, tf.complex64)"
   ]
  },
  {
   "cell_type": "markdown",
   "metadata": {},
   "source": [
    "**1阶张量**\n",
    "\n",
    "传递一个列表作为输入值来创建1阶张量，例如："
   ]
  },
  {
   "cell_type": "code",
   "execution_count": 4,
   "metadata": {},
   "outputs": [],
   "source": [
    "mystr = tf.Variable(['Hello'], tf.string)  # 注意传入的是字符串的列表\n",
    "cool_numbers = tf.Variable([3.14159, 2.71828], tf.float32)\n",
    "first_primes = tf.Variable([2, 3, 5, 7, 11], tf.int32)\n",
    "its_very_complicated = tf.Variable([12.3 - 4.85j, 7.5 - 6.13j], tf.complex64)"
   ]
  },
  {
   "cell_type": "markdown",
   "metadata": {},
   "source": [
    "**更高阶张量**\n",
    "\n",
    "2阶张量至少包含一行和一列："
   ]
  },
  {
   "cell_type": "code",
   "execution_count": 5,
   "metadata": {},
   "outputs": [
    {
     "name": "stdout",
     "output_type": "stream",
     "text": [
      "Tensor(\"Rank:0\", shape=(), dtype=int32)\n"
     ]
    }
   ],
   "source": [
    "mymat = tf.Variable([[7], [11]], tf.int16)\n",
    "myxor = tf.Variable([[False, True], [True, False]], tf.bool)\n",
    "linear_squares = tf.Variable([[4], [9], [16], [25]], tf.int32)\n",
    "squarish_squares = tf.Variable([[4, 9], [16, 25]], tf.int32)\n",
    "rank_of_squares = tf.rank(squarish_squares)\n",
    "print(rank_of_squares)\n",
    "mymatC = tf.Variable([[7], [11]], tf.int32)"
   ]
  },
  {
   "cell_type": "markdown",
   "metadata": {},
   "source": [
    "同样，更高阶的张量由一个 n 维数组组成。例如，在图像处理过程中，会使用许多 4 阶张量，维度对应批大小batch size、图像宽度、图像高度和颜色通道。"
   ]
  },
  {
   "cell_type": "code",
   "execution_count": 6,
   "metadata": {},
   "outputs": [],
   "source": [
    "my_image = tf.zeros([10, 299, 299, 3])  # batch * height * width * color"
   ]
  },
  {
   "cell_type": "markdown",
   "metadata": {},
   "source": [
    "**获取[tf.Tensor](https://www.tensorflow.org/api_docs/python/tf/Tensor)对象的阶**\n",
    "\n",
    "使用[tf.rank](https://www.tensorflow.org/api_docs/python/tf/rank)方法获取[tf.Tensor](https://www.tensorflow.org/api_docs/python/tf/Tensor)对象的阶："
   ]
  },
  {
   "cell_type": "code",
   "execution_count": 7,
   "metadata": {},
   "outputs": [
    {
     "name": "stdout",
     "output_type": "stream",
     "text": [
      "Tensor(\"Rank_1:0\", shape=(), dtype=int32)\n"
     ]
    }
   ],
   "source": [
    "r = tf.rank(my_image)\n",
    "print(r)\n",
    "\n",
    "# After the graph runs, r will hold the value 4."
   ]
  },
  {
   "cell_type": "markdown",
   "metadata": {},
   "source": [
    "**[tf.Tensor](https://www.tensorflow.org/api_docs/python/tf/Tensor?hl=zh-cn)张量索引**\n",
    "\n",
    "---\n",
    "\n",
    "张量[tf.Tensor](https://www.tensorflow.org/api_docs/python/tf/Tensor?hl=zh-cn)是n维单元数组，需要指定n个索引，索引可以是int或者0阶张量；\n",
    "\n",
    "1. 正负索引：索引单个元素\n",
    "2. 切片索引：n个切片索引返回与原张量阶数相等的子张量；` : `是Python切片语法，意味“该维度不变”。\n",
    "3. 正负 + 切片索引：返回比原张量阶数小的子张量；\n",
    "\n",
    "\n",
    "\n",
    "```\n",
    " |  __getitem__ = _slice_helper(tensor, slice_spec, var=None)\n",
    " |      Overload for Tensor.__getitem__.\n",
    " |\n",
    " |      This operation extracts the specified region from the tensor.\n",
    " |      The notation is similar to NumPy with the restriction that\n",
    " |      currently only support basic indexing. That means that\n",
    " |      using a non-scalar tensor as input is not currently allowed.\n",
    " |\n",
    " |      Some useful examples:\n",
    " |\n",
    " |      ``python\n",
    " |      # strip leading and trailing 2 elements\n",
    " |      foo = tf.constant([1,2,3,4,5,6])\n",
    " |      print(foo[2:-2].eval())  # => [3,4]\n",
    " |\n",
    " |      # skip every row and reverse every column\n",
    " |      foo = tf.constant([[1,2,3], [4,5,6], [7,8,9]])\n",
    " |      print(foo[::2,::-1].eval())  # => [[3,2,1], [9,8,7]]\n",
    " |\n",
    " |      # Use scalar tensors as indices on both dimensions\n",
    " |      print(foo[tf.constant(0), tf.constant(2)].eval())  # => 3\n",
    " |\n",
    " |      # Insert another dimension\n",
    " |      foo = tf.constant([[1,2,3], [4,5,6], [7,8,9]])\n",
    " |      print(foo[tf.newaxis, :, :].eval()) # => [[[1,2,3], [4,5,6], [7,8,9]]]\n",
    " |      print(foo[:, tf.newaxis, :].eval()) # => [[[1,2,3]], [[4,5,6]], [[7,8,9]]]\n",
    " |      print(foo[:, :, tf.newaxis].eval()) # => [[[1],[2],[3]], [[4],[5],[6]],\n",
    " |      [[7],[8],[9]]]\n",
    " |\n",
    " |      # Ellipses (3 equivalent operations)\n",
    " |      foo = tf.constant([[1,2,3], [4,5,6], [7,8,9]])\n",
    " |      print(foo[tf.newaxis, :, :].eval())  # => [[[1,2,3], [4,5,6], [7,8,9]]]\n",
    " |      print(foo[tf.newaxis, ...].eval())  # => [[[1,2,3], [4,5,6], [7,8,9]]]\n",
    " |      print(foo[tf.newaxis].eval())  # => [[[1,2,3], [4,5,6], [7,8,9]]]\n",
    " |      ``\n",
    " |\n",
    " |      Notes:\n",
    " |        - `tf.newaxis` is `None` as in NumPy.\n",
    " |        - An implicit ellipsis is placed at the end of the `slice_spec`\n",
    " |        - NumPy advanced indexing is currently not supported.\n",
    " |\n",
    " |      Args:\n",
    " |        tensor: An ops.Tensor object.\n",
    " |        slice_spec: The arguments to Tensor.__getitem__.\n",
    " |        var: In the case of variable slice assignment, the Variable\n",
    " |          object to slice (i.e. tensor is the read-only view of this\n",
    " |          variable).\n",
    " |\n",
    " |      Returns:\n",
    " |        The appropriate slice of \"tensor\", based on \"slice_spec\".\n",
    " |\n",
    " |      Raises:\n",
    " |        ValueError: If a slice range is negative size.\n",
    " |        TypeError: If the slice indices aren't int, slice, or Ellipsis.\n",
    " ```"
   ]
  },
  {
   "cell_type": "code",
   "execution_count": 8,
   "metadata": {},
   "outputs": [
    {
     "name": "stdout",
     "output_type": "stream",
     "text": [
      "[3 4]\n",
      "[[3 2 1]\n",
      " [9 8 7]]\n",
      "3\n",
      "[[[1 2 3]\n",
      "  [4 5 6]\n",
      "  [7 8 9]]]\n",
      "[[[1 2 3]]\n",
      "\n",
      " [[4 5 6]]\n",
      "\n",
      " [[7 8 9]]]\n",
      "[[[1]\n",
      "  [2]\n",
      "  [3]]\n",
      "\n",
      " [[4]\n",
      "  [5]\n",
      "  [6]]\n",
      "\n",
      " [[7]\n",
      "  [8]\n",
      "  [9]]]\n",
      "[[[1 2 3]\n",
      "  [4 5 6]\n",
      "  [7 8 9]]]\n",
      "[[[1 2 3]\n",
      "  [4 5 6]\n",
      "  [7 8 9]]]\n",
      "[[[1 2 3]\n",
      "  [4 5 6]\n",
      "  [7 8 9]]]\n"
     ]
    }
   ],
   "source": [
    "with tf.Session() as sess:\n",
    "\n",
    "    # strip leading and trailing 2 elements\n",
    "    foo = tf.constant([1, 2, 3, 4, 5, 6])\n",
    "    print(foo[2:-2].eval())  # print [3, 4]\n",
    "\n",
    "    # skip second row and reverse every column\n",
    "    foo = tf.constant([[1, 2, 3], [4, 5, 6], [7, 8, 9]])\n",
    "    print(foo[::2, ::-1].eval())  # print [[3, 2, 1], [9, 8, 7]]\n",
    "\n",
    "    # Use scalar tensors as indices on both dimensions\n",
    "    print(foo[tf.constant(0), tf.constant(2)].eval())  # print 3\n",
    "\n",
    "    # Insert another dimension\n",
    "    foo = tf.constant([[1, 2, 3], [4, 5, 6], [7, 8, 9]])\n",
    "    print(foo[tf.newaxis, :, :].eval())  # print [[[1,2,3], [4,5,6], [7,8,9]]]\n",
    "    print(foo[:, tf.newaxis, :].eval())  # print [[[1,2,3]], [[4,5,6]], [[7,8,9]]]\n",
    "    print(foo[:, :, tf.newaxis].eval())  # print [[[1],[2],[3]], [[4],[5],[6]], [[7],[8],[9]]]\n",
    "\n",
    "    # 省略Ellipses(3 equivalent operations)\n",
    "    foo = tf.constant([[1,2,3], [4,5,6], [7,8,9]])\n",
    "    print(foo[tf.newaxis, :, :].eval())  # print [[[1,2,3], [4,5,6], [7,8,9]]]\n",
    "    print(foo[tf.newaxis, ...].eval())  # print [[[1,2,3], [4,5,6], [7,8,9]]] 使用了省略对象\n",
    "    print(foo[tf.newaxis].eval())  # print [[[1,2,3], [4,5,6], [7,8,9]]]"
   ]
  },
  {
   "cell_type": "markdown",
   "metadata": {},
   "source": [
    "**张量的形状shape：每个维度的元素个数**\n",
    "\n",
    "---\n",
    "\n",
    "**TensorFlow在图的构建过程中自动推理张量形状。这些推理的形状可能具有已知或未知的阶。如果阶已知，则每个维度的大小可能已知或未知。**TensorFlow automatically infers shapes during graph construction. These inferred shapes might have known or unknown rank. If the rank is known, the sizes of each dimension might be known or unknown.\n",
    "\n",
    "**张量的形状shape可以使用整型Python列表/元组或者[tf.TensorShape](https://www.tensorflow.org/api_docs/python/tf/TensorShape?hl=zh-cn)表示。**\n",
    "\n",
    "\n",
    "获取张量形状：\n",
    "\n",
    "1. 张量shape属性；\n",
    "2. 将张量shape作为参数来构造另一个张量，在执行图时，新张量将获得原张量的完全定义形状；\n",
    "\n",
    "```\n",
    " |  shape\n",
    " |      Returns the `TensorShape` that represents the shape of this tensor.\n",
    " |\n",
    " |      The shape is computed using shape inference functions that are\n",
    " |      registered in the Op for each `Operation`.  See\n",
    " |      `tf.TensorShape`\n",
    " |      for more details of what a shape represents.\n",
    " |\n",
    " |      The inferred shape of a tensor is used to provide shape\n",
    " |      information without having to launch the graph in a session. This\n",
    " |      can be used for debugging, and providing early error messages. For\n",
    " |      example:\n",
    " |\n",
    " |      ``python\n",
    " |      c = tf.constant([[1.0, 2.0, 3.0], [4.0, 5.0, 6.0]])\n",
    " |\n",
    " |      print(c.shape)\n",
    " |      ==> TensorShape([Dimension(2), Dimension(3)])\n",
    " |\n",
    " |      d = tf.constant([[1.0, 0.0], [0.0, 1.0], [1.0, 0.0], [0.0, 1.0]])\n",
    " |\n",
    " |      print(d.shape)\n",
    " |      ==> TensorShape([Dimension(4), Dimension(2)])\n",
    " |\n",
    " |      # Raises a ValueError, because `c` and `d` do not have compatible\n",
    " |      # inner dimensions.\n",
    " |      e = tf.matmul(c, d)\n",
    " |\n",
    " |      f = tf.matmul(c, d, transpose_a=True, transpose_b=True)\n",
    " |\n",
    " |      print(f.shape)\n",
    " |      ==> TensorShape([Dimension(3), Dimension(4)])\n",
    " |      ``\n",
    " |\n",
    " |      In some cases, the inferred shape may have unknown dimensions. If\n",
    " |      the caller has additional information about the values of these\n",
    " |      dimensions, `Tensor.set_shape()` can be used to augment the\n",
    " |      inferred shape.\n",
    " |\n",
    " |      Returns:\n",
    " |        A `TensorShape` representing the shape of this tensor.\n",
    "```\n"
   ]
  },
  {
   "cell_type": "code",
   "execution_count": 10,
   "metadata": {},
   "outputs": [
    {
     "name": "stdout",
     "output_type": "stream",
     "text": [
      "(2, 3) <class 'tensorflow.python.framework.tensor_shape.TensorShape'>\n",
      "(4, 2) <class 'tensorflow.python.framework.tensor_shape.TensorShape'>\n",
      "(3, 4) <class 'tensorflow.python.framework.tensor_shape.TensorShape'>\n"
     ]
    }
   ],
   "source": [
    "c = tf.constant([[1., 2., 3.], [4., 5., 6.]])\n",
    "print(c.shape, type(c.shape))\n",
    "\n",
    "d = tf.constant([[1., 0.], [0., 1.], [1., 0.], [0., 1.]])\n",
    "print(d.shape, type(d.shape))\n",
    "\n",
    "# Raise a ValueError, because `c` and `d` do not have compatible\n",
    "# inner dimensions.\n",
    "# e = tf.matmul(c, d)\n",
    "\n",
    "f = tf.matmul(c, d, transpose_a=True, transpose_b=True)\n",
    "print(f.shape, type(f.shape))\n"
   ]
  },
  {
   "cell_type": "markdown",
   "metadata": {},
   "source": [
    "For example, here is how to make a vector of zeros with the same size as the number of columns in a given matrix:"
   ]
  },
  {
   "cell_type": "code",
   "execution_count": 15,
   "metadata": {},
   "outputs": [
    {
     "name": "stdout",
     "output_type": "stream",
     "text": [
      "[0. 0. 0. 0.]\n"
     ]
    }
   ],
   "source": [
    "zeros = tf.zeros(f.shape[1])\n",
    "\n",
    "with tf.Session() as sess:\n",
    "    print(zeros.eval())"
   ]
  },
  {
   "cell_type": "markdown",
   "metadata": {},
   "source": [
    "改变张量形状--[tf.reshape](https://www.tensorflow.org/api_docs/python/tf/reshape?hl=zh-cn):\n",
    "\n",
    "张量的**元素数量**是其形状中各维长度的乘积。改变张量形状，张量元素数量不变。"
   ]
  },
  {
   "cell_type": "code",
   "execution_count": 16,
   "metadata": {},
   "outputs": [],
   "source": [
    "rank_three_tensor = tf.ones([3, 4, 5])\n",
    "matrix = tf.reshape(rank_three_tensor, [6, 10])  # Reshape existing content into a 6x10 matrix\n",
    "\n",
    "matrixB = tf.reshape(matrix, [3, -1])  # Reshape existing content into a 3x20 matrix. -1 tells reshape to calculate\n",
    "                                       # the size of this dimension.\n",
    "matrixAlt = tf.reshape(matrixB, [4, 3, -1])  # Reshape existing content into a 4x3x5 tensor\n",
    "\n",
    "# Note that the number of elements of the reshaped Tensors has to match the\n",
    "# original number of elements. Therefore, the following example generates an\n",
    "# error because no possible value for the last dimension will match the number\n",
    "# of elements.\n",
    "# yet_another = tf.reshape(matrixAlt, [13, 2, -1])  # ERROR!"
   ]
  },
  {
   "cell_type": "markdown",
   "metadata": {},
   "source": [
    "**数据类型Data types**\n",
    "\n",
    "---\n",
    "\n",
    "1. 可以将任意数据结构序列化为string并将其存储在[tf.Tensor](https://www.tensorflow.org/api_docs/python/tf/Tensor)中;\n",
    "2. [tf.cast](https://www.tensorflow.org/api_docs/python/tf/dtypes/cast)：可以改变[tf.Tensor](https://www.tensorflow.org/api_docs/python/tf/Tensor)的数据类型；\n",
    "3. TensorFlow将Python整数转型为[tf.int32](https://www.tensorflow.org/api_docs/python/tf/int32?hl=zh-cn)，将python浮点数转型为[tf.float32](https://www.tensorflow.org/api_docs/python/tf/float32?hl=zh-cn)。此外，TensorFlow使用Numpy转换数组的/相同规则来转换张量。\n",
    "\n",
    "**评估张量Evaluating Tensor**\n",
    "\n",
    "---\n",
    "\n",
    "`Tensor.eval`会返回一个与张量内容相同的 NumPy 数组:\n",
    "\n",
    "```\n",
    " |  eval(self, feed_dict=None, session=None)\n",
    " |      Evaluates this tensor in a `Session`.\n",
    " |\n",
    " |      Calling this method will execute all preceding operations that\n",
    " |      produce the inputs needed for the operation that produces this\n",
    " |      tensor.\n",
    " |\n",
    " |      *N.B.* Before invoking `Tensor.eval()`, its graph must have been\n",
    " |      launched in a session, and either a default session must be\n",
    " |      available, or `session` must be specified explicitly.\n",
    " |\n",
    " |      Args:\n",
    " |        feed_dict: A dictionary that maps `Tensor` objects to feed values.\n",
    " |          See `tf.Session.run` for a\n",
    " |          description of the valid feed values.\n",
    " |        session: (Optional.) The `Session` to be used to evaluate this tensor. If\n",
    " |          none, the default session will be used.\n",
    " |\n",
    " |      Returns:\n",
    " |        A numpy array corresponding to the value of this tensor.\n",
    "```\n",
    "\n",
    "Sometimes it is not possible to evaluate a tf.Tensor with no context because its value might depend on dynamic information that is not available. For example, tensors that depend on placeholders can't be evaluated without providing a value for the placeholder.有时无法在没有背景信息的情况下评估 tf.Tensor，因为它的值可能取决于无法获取的动态信息。例如，在没有为 placeholder 提供值的情况下，无法评估依赖于 placeholder 的张量。"
   ]
  },
  {
   "cell_type": "code",
   "execution_count": 21,
   "metadata": {},
   "outputs": [
    {
     "name": "stdout",
     "output_type": "stream",
     "text": [
      "3.0\n"
     ]
    }
   ],
   "source": [
    "with tf.Session() as sess:\n",
    "    p = tf.placeholder(tf.float32)\n",
    "    t = p + 1.0\n",
    "    # t.eval()  # This will fail, since the placeholder did not get a value.\n",
    "    print(t.eval(feed_dict={p: 2.0}))  # This will succeed because we're feeding a value to the placeholder"
   ]
  },
  {
   "cell_type": "markdown",
   "metadata": {},
   "source": [
    "其他模型构造可能会使评估[tf.Tensor]()变得较为复杂。TensorFlow无法直接评估在函数内部或控制流结构内部定义的[tf.Tensor]()。如果 [tf.Tensor]()取决于队列中的值，那么只有在某个项加入队列后才能评估[tf.Tensor]()；否则，评估将被搁置。在处理队列时，请先调用 [tf.train.start_queue_runners]()，再评估任何[tf.Tensor]()。\n",
    "\n",
    "[tf.Tensor]: https://www.tensorflow.org/api_docs/python/tf/Tensor?hl=zh-cn;\n",
    "[tf.train.start_queue_runners]: https://www.tensorflow.org/api_docs/python/tf/train/start_queue_runners?hl=zh-cn;\n",
    "\n",
    "**输出张量Printing Tensors**\n",
    "\n",
    "---\n",
    "\n",
    "虽然[tfdbg]()提供高级调试支持，但TensorFlow也提供直接输出[tf.Tensor]()值的操作(op)[tf.Print]()。\n",
    "\n",
    "[tf.Print](): 返回其第一个张量参数（保持不变），同时输出作为第二个参数传入的张量集合。\n",
    "\n",
    "\n",
    "\n",
    "[tf.Print]: https://www.tensorflow.org/api_docs/python/tf/Print?hl=zh-cn;\n",
    "[tf.Tensor]: https://www.tensorflow.org/api_docs/python/tf/Tensor?hl=zh-cn;\n",
    "[tfdbg]: https://www.tensorflow.org/guide/debugger?hl=zh-cn;"
   ]
  },
  {
   "cell_type": "code",
   "execution_count": 27,
   "metadata": {},
   "outputs": [
    {
     "name": "stdout",
     "output_type": "stream",
     "text": [
      "4.0\n"
     ]
    }
   ],
   "source": [
    "t = tf.constant(3., tf.float32)\n",
    "tf.Print(t, [t])  # This does nothing\n",
    "t = tf.Print(t, [t])  # Here we are using the value returned by tf.Print\n",
    "result = t + 1  # Now when result is evaluated the value of `t` will be printed.\n",
    "\n",
    "with tf.Session() as sess:\n",
    "    print(result.eval())"
   ]
  },
  {
   "cell_type": "markdown",
   "metadata": {},
   "source": [
    "在评估 result 时，会评估所有影响 result 的元素。由于 result 依靠 t，而评估 t 会导致输出其输入（t 的旧值），所以系统会输出 t。"
   ]
  },
  {
   "cell_type": "code",
   "execution_count": null,
   "metadata": {},
   "outputs": [],
   "source": []
  }
 ],
 "metadata": {
  "kernelspec": {
   "display_name": "Python (ml)",
   "language": "python",
   "name": "ml"
  },
  "language_info": {
   "codemirror_mode": {
    "name": "ipython",
    "version": 3
   },
   "file_extension": ".py",
   "mimetype": "text/x-python",
   "name": "python",
   "nbconvert_exporter": "python",
   "pygments_lexer": "ipython3",
   "version": "3.6.0"
  }
 },
 "nbformat": 4,
 "nbformat_minor": 2
}
