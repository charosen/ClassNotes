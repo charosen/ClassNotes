{
 "cells": [
  {
   "cell_type": "markdown",
   "metadata": {},
   "source": [
    "## 1.新手入门\n",
    "\n",
    "### 1.5. 保存和恢复模型\n",
    "\n",
    "模型进度Model progress可在**训练期间**和**训练之后**保存。这意味着:\n",
    "1. 可以从上次暂停处继续训练模型，避免训练时间过长。\n",
    "2. 可以分享模型;\n",
    "\n",
    "发布模型时，大部分会分享以下内容：\n",
    "1. 用于创建模型的代码;\n",
    "2. 模型的训练权重或参数;\n",
    "\n",
    "**选项Option**\n",
    "\n",
    "根据使用Tensorflow API的不同，有多种不同保存Tensorflow模型的方法。本教程使用的是[tf.keras]() API，它是一种用于在Tensorflow中构建和训练模型的高阶API。关于保存Tensorflow模型的其他方法，请参阅Tensorflow [Save and Restore]()或[Saving in eager]()(Eager也是一种api)\n",
    "\n",
    "[tf.keras]: https://www.tensorflow.org/guide/keras?hl=zh-cn;\n",
    "[Save and Restore]: https://www.tensorflow.org/guide/saved_model?hl=zh-cn;\n",
    "[Saving in eager]: https://www.tensorflow.org/guide/eager?hl=zh-cn#object_based_saving;\n",
    "\n",
    "**设置**\n",
    "\n",
    "---\n",
    "\n",
    "**安装和导入**\n",
    "\n",
    "安装并导入Tensorflow和依赖项：\n",
    "\n",
    "`!pip install -q h5py pyyaml`\n",
    "\n",
    "**获取示例数据集**\n",
    "\n",
    "我们将使用[MNIST dataset](http://yann.lecun.com/exdb/mnist/)数据集训练模型，以演示如何保存权重。要加快演示运行速度，请仅使用前1000个样本：\n"
   ]
  },
  {
   "cell_type": "code",
   "execution_count": 3,
   "metadata": {},
   "outputs": [
    {
     "name": "stdout",
     "output_type": "stream",
     "text": [
      "1.12.0\n"
     ]
    }
   ],
   "source": [
    "from __future__ import absolute_import, division, print_function\n",
    "\n",
    "import os\n",
    "import ssl\n",
    "\n",
    "import tensorflow as tf\n",
    "from tensorflow import keras\n",
    "\n",
    "ssl._create_default_https_context = ssl._create_unverified_context  # 验证ssl证书，不然下载MNIST数据集时会报错\n",
    "\n",
    "print(tf.__version__)"
   ]
  },
  {
   "cell_type": "code",
   "execution_count": 9,
   "metadata": {},
   "outputs": [],
   "source": [
    "(train_images, train_labels), (test_images, test_labels) = keras.datasets.mnist.load_data()\n",
    "\n",
    "train_labels = train_labels[:1000]\n",
    "test_labels = test_labels[:1000]\n",
    "\n",
    "# print('train_images.reshape(-1, 28*28)', train_images[:1000].reshape(-1, 28*28))\n",
    "\n",
    "train_images = train_images[:1000].reshape(-1, 28*28) / 255.0  # 数据预处理：由于模型没有Flatten层，所以需手动转换成784的1维数组，并max-min归一化\n",
    "test_images = test_images[:1000].reshape(-1, 28*28) / 255.0  # 数据预处理：由于模型没有Flatten层，所以需手动转换成784的1维数组，并max-min归一化"
   ]
  },
  {
   "cell_type": "markdown",
   "metadata": {},
   "source": [
    "**定义模型**\n",
    "\n",
    "我们来构建一个简单的模型，以演示如何保存save和加载load权重。\n"
   ]
  },
  {
   "cell_type": "code",
   "execution_count": 12,
   "metadata": {},
   "outputs": [
    {
     "name": "stdout",
     "output_type": "stream",
     "text": [
      "_________________________________________________________________\n",
      "Layer (type)                 Output Shape              Param #   \n",
      "=================================================================\n",
      "dense_4 (Dense)              (None, 512)               401920    \n",
      "_________________________________________________________________\n",
      "dropout_2 (Dropout)          (None, 512)               0         \n",
      "_________________________________________________________________\n",
      "dense_5 (Dense)              (None, 10)                5130      \n",
      "=================================================================\n",
      "Total params: 407,050\n",
      "Trainable params: 407,050\n",
      "Non-trainable params: 0\n",
      "_________________________________________________________________\n"
     ]
    }
   ],
   "source": [
    "# Returns a short sequential model\n",
    "def create_model():\n",
    "    model = keras.models.Sequential([\n",
    "        keras.layers.Dense(512, activation=tf.nn.relu, input_shape=(784,)),\n",
    "        keras.layers.Dropout(0.2),\n",
    "        keras.layers.Dense(10, activation=tf.nn.softmax)\n",
    "    ])\n",
    "    \n",
    "    model.compile(optimizer=tf.keras.optimizers.Adam(),  # 注意与basic classification示例中的不同\n",
    "                  loss=tf.keras.losses.sparse_categorical_crossentropy,  # 注意与basic classification示例中的不同\n",
    "                  metrics=['accuracy'])\n",
    "    \n",
    "    return model\n",
    "\n",
    "\n",
    "# Create a basic model instance\n",
    "model = create_model()\n",
    "model.summary()"
   ]
  },
  {
   "cell_type": "markdown",
   "metadata": {},
   "source": [
    "**在训练期间保存检查点**\n",
    "\n",
    "---\n",
    "\n",
    "`tf.keras.callbacks.ModelCheckpoint`是自动保存检查点的回调函数。该回调函数需要几个参数来配置检查点。使用`tf.keras.callbacks.ModelCheckpoint`：\n",
    "+ 可以使用经过训练的模型，而无需重新训练该模型；\n",
    "+ 可以从上次暂停处继续训练，避免训练过程中断。\n",
    "\n",
    "**检查点回调函数用法**\n",
    "训练模型，并将`ModelCheckpoint`回调传递给该模型：\n"
   ]
  },
  {
   "cell_type": "code",
   "execution_count": 13,
   "metadata": {},
   "outputs": [
    {
     "name": "stdout",
     "output_type": "stream",
     "text": [
      "Train on 1000 samples, validate on 1000 samples\n",
      "Epoch 1/10\n",
      " 832/1000 [=======================>......] - ETA: 0s - loss: 1.3646 - acc: 0.6034\n",
      "Epoch 00001: saving model to training_1/cp.ckpt\n",
      "WARNING:tensorflow:This model was compiled with a Keras optimizer (<tensorflow.python.keras.optimizers.Adam object at 0x12d22e3c8>) but is being saved in TensorFlow format with `save_weights`. The model's weights will be saved, but unlike with TensorFlow optimizers in the TensorFlow format the optimizer's state will not be saved.\n",
      "\n",
      "Consider using a TensorFlow optimizer from `tf.train`.\n",
      "1000/1000 [==============================] - 1s 894us/step - loss: 1.2327 - acc: 0.6460 - val_loss: 0.7374 - val_acc: 0.7690\n",
      "Epoch 2/10\n",
      " 992/1000 [============================>.] - ETA: 0s - loss: 0.4530 - acc: 0.8800\n",
      "Epoch 00002: saving model to training_1/cp.ckpt\n",
      "WARNING:tensorflow:This model was compiled with a Keras optimizer (<tensorflow.python.keras.optimizers.Adam object at 0x12d22e3c8>) but is being saved in TensorFlow format with `save_weights`. The model's weights will be saved, but unlike with TensorFlow optimizers in the TensorFlow format the optimizer's state will not be saved.\n",
      "\n",
      "Consider using a TensorFlow optimizer from `tf.train`.\n",
      "1000/1000 [==============================] - 0s 360us/step - loss: 0.4496 - acc: 0.8810 - val_loss: 0.5453 - val_acc: 0.8280\n",
      "Epoch 3/10\n",
      " 832/1000 [=======================>......] - ETA: 0s - loss: 0.3011 - acc: 0.9315\n",
      "Epoch 00003: saving model to training_1/cp.ckpt\n",
      "WARNING:tensorflow:This model was compiled with a Keras optimizer (<tensorflow.python.keras.optimizers.Adam object at 0x12d22e3c8>) but is being saved in TensorFlow format with `save_weights`. The model's weights will be saved, but unlike with TensorFlow optimizers in the TensorFlow format the optimizer's state will not be saved.\n",
      "\n",
      "Consider using a TensorFlow optimizer from `tf.train`.\n",
      "1000/1000 [==============================] - 0s 331us/step - loss: 0.2863 - acc: 0.9350 - val_loss: 0.4830 - val_acc: 0.8450\n",
      "Epoch 4/10\n",
      " 832/1000 [=======================>......] - ETA: 0s - loss: 0.2082 - acc: 0.9483\n",
      "Epoch 00004: saving model to training_1/cp.ckpt\n",
      "WARNING:tensorflow:This model was compiled with a Keras optimizer (<tensorflow.python.keras.optimizers.Adam object at 0x12d22e3c8>) but is being saved in TensorFlow format with `save_weights`. The model's weights will be saved, but unlike with TensorFlow optimizers in the TensorFlow format the optimizer's state will not be saved.\n",
      "\n",
      "Consider using a TensorFlow optimizer from `tf.train`.\n",
      "1000/1000 [==============================] - 0s 331us/step - loss: 0.2074 - acc: 0.9480 - val_loss: 0.4450 - val_acc: 0.8520\n",
      "Epoch 5/10\n",
      " 928/1000 [==========================>...] - ETA: 0s - loss: 0.1571 - acc: 0.9601\n",
      "Epoch 00005: saving model to training_1/cp.ckpt\n",
      "WARNING:tensorflow:This model was compiled with a Keras optimizer (<tensorflow.python.keras.optimizers.Adam object at 0x12d22e3c8>) but is being saved in TensorFlow format with `save_weights`. The model's weights will be saved, but unlike with TensorFlow optimizers in the TensorFlow format the optimizer's state will not be saved.\n",
      "\n",
      "Consider using a TensorFlow optimizer from `tf.train`.\n",
      "1000/1000 [==============================] - 0s 393us/step - loss: 0.1597 - acc: 0.9580 - val_loss: 0.4528 - val_acc: 0.8500\n",
      "Epoch 6/10\n",
      " 832/1000 [=======================>......] - ETA: 0s - loss: 0.1218 - acc: 0.9796\n",
      "Epoch 00006: saving model to training_1/cp.ckpt\n",
      "WARNING:tensorflow:This model was compiled with a Keras optimizer (<tensorflow.python.keras.optimizers.Adam object at 0x12d22e3c8>) but is being saved in TensorFlow format with `save_weights`. The model's weights will be saved, but unlike with TensorFlow optimizers in the TensorFlow format the optimizer's state will not be saved.\n",
      "\n",
      "Consider using a TensorFlow optimizer from `tf.train`.\n",
      "1000/1000 [==============================] - 0s 338us/step - loss: 0.1228 - acc: 0.9790 - val_loss: 0.3937 - val_acc: 0.8690\n",
      "Epoch 7/10\n",
      " 896/1000 [=========================>....] - ETA: 0s - loss: 0.0830 - acc: 0.9877\n",
      "Epoch 00007: saving model to training_1/cp.ckpt\n",
      "WARNING:tensorflow:This model was compiled with a Keras optimizer (<tensorflow.python.keras.optimizers.Adam object at 0x12d22e3c8>) but is being saved in TensorFlow format with `save_weights`. The model's weights will be saved, but unlike with TensorFlow optimizers in the TensorFlow format the optimizer's state will not be saved.\n",
      "\n",
      "Consider using a TensorFlow optimizer from `tf.train`.\n",
      "1000/1000 [==============================] - 0s 399us/step - loss: 0.0831 - acc: 0.9870 - val_loss: 0.4113 - val_acc: 0.8580\n",
      "Epoch 8/10\n",
      " 864/1000 [========================>.....] - ETA: 0s - loss: 0.0681 - acc: 0.9919\n",
      "Epoch 00008: saving model to training_1/cp.ckpt\n",
      "WARNING:tensorflow:This model was compiled with a Keras optimizer (<tensorflow.python.keras.optimizers.Adam object at 0x12d22e3c8>) but is being saved in TensorFlow format with `save_weights`. The model's weights will be saved, but unlike with TensorFlow optimizers in the TensorFlow format the optimizer's state will not be saved.\n",
      "\n",
      "Consider using a TensorFlow optimizer from `tf.train`.\n",
      "1000/1000 [==============================] - 0s 335us/step - loss: 0.0670 - acc: 0.9910 - val_loss: 0.4207 - val_acc: 0.8690\n",
      "Epoch 9/10\n",
      " 992/1000 [============================>.] - ETA: 0s - loss: 0.0452 - acc: 0.9980\n",
      "Epoch 00009: saving model to training_1/cp.ckpt\n",
      "WARNING:tensorflow:This model was compiled with a Keras optimizer (<tensorflow.python.keras.optimizers.Adam object at 0x12d22e3c8>) but is being saved in TensorFlow format with `save_weights`. The model's weights will be saved, but unlike with TensorFlow optimizers in the TensorFlow format the optimizer's state will not be saved.\n",
      "\n",
      "Consider using a TensorFlow optimizer from `tf.train`.\n",
      "1000/1000 [==============================] - 0s 367us/step - loss: 0.0458 - acc: 0.9970 - val_loss: 0.4223 - val_acc: 0.8670\n",
      "Epoch 10/10\n",
      " 864/1000 [========================>.....] - ETA: 0s - loss: 0.0398 - acc: 0.9954\n",
      "Epoch 00010: saving model to training_1/cp.ckpt\n",
      "WARNING:tensorflow:This model was compiled with a Keras optimizer (<tensorflow.python.keras.optimizers.Adam object at 0x12d22e3c8>) but is being saved in TensorFlow format with `save_weights`. The model's weights will be saved, but unlike with TensorFlow optimizers in the TensorFlow format the optimizer's state will not be saved.\n",
      "\n",
      "Consider using a TensorFlow optimizer from `tf.train`.\n",
      "1000/1000 [==============================] - 0s 402us/step - loss: 0.0393 - acc: 0.9960 - val_loss: 0.4150 - val_acc: 0.8760\n"
     ]
    },
    {
     "data": {
      "text/plain": [
       "<tensorflow.python.keras.callbacks.History at 0x12cecf588>"
      ]
     },
     "execution_count": 13,
     "metadata": {},
     "output_type": "execute_result"
    }
   ],
   "source": [
    "checkpoint_path = 'training_1/cp.ckpt'\n",
    "checkpoint_dir = os.path.dirname(checkpoint_path)\n",
    "\n",
    "# Create checkpoint callback\n",
    "cp_callback = tf.keras.callbacks.ModelCheckpoint(checkpoint_path,\n",
    "                                                 save_weights_only=True,\n",
    "                                                 verbose=1)\n",
    "model = create_model()\n",
    "\n",
    "model.fit(train_images, train_labels, epochs = 10,\n",
    "          validation_data = (test_images, test_labels),\n",
    "          callbacks = [cp_callback])  # pass callback to training"
   ]
  },
  {
   "cell_type": "markdown",
   "metadata": {},
   "source": [
    "上述代码将创建一个Tensorflow检查点文件集合，这些文件在每个周期结束时更新："
   ]
  },
  {
   "cell_type": "code",
   "execution_count": 15,
   "metadata": {},
   "outputs": [
    {
     "name": "stdout",
     "output_type": "stream",
     "text": [
      "checkpoint                  cp.ckpt.index\r\n",
      "cp.ckpt.data-00000-of-00001\r\n"
     ]
    }
   ],
   "source": [
    "!ls {checkpoint_dir}"
   ]
  },
  {
   "cell_type": "markdown",
   "metadata": {},
   "source": [
    "创建一个未经训练的全新模型。仅通过权重恢复模型时，您必须有一个与原始模型架构相同的模型。由于模型架构相同，因此我们可以分享权重（尽管是不同的模型实例）。\n",
    "\n",
    "现在，重新构建一个未经训练的全新模型，并用测试集对其进行评估。未训练模型的表现有很大的偶然性（准确率约为 10%）："
   ]
  },
  {
   "cell_type": "code",
   "execution_count": 17,
   "metadata": {},
   "outputs": [
    {
     "name": "stdout",
     "output_type": "stream",
     "text": [
      "1000/1000 [==============================] - 0s 201us/step\n",
      "Untrained model, accuracy:  8.50%\n"
     ]
    }
   ],
   "source": [
    "model = create_model()\n",
    "\n",
    "loss, acc = model.evaluate(test_images, test_labels)\n",
    "print(\"Untrained model, accuracy: {:5.2f}%\".format(100*acc))\n"
   ]
  },
  {
   "cell_type": "markdown",
   "metadata": {},
   "source": [
    "然后从检查点加载权重，并重新评估："
   ]
  },
  {
   "cell_type": "code",
   "execution_count": 18,
   "metadata": {},
   "outputs": [
    {
     "name": "stdout",
     "output_type": "stream",
     "text": [
      "1000/1000 [==============================] - 0s 81us/step\n",
      "Restored model, accuracy: 87.60%\n"
     ]
    }
   ],
   "source": [
    "model.load_weights(checkpoint_path)\n",
    "loss, acc = model.evaluate(test_images, test_labels)\n",
    "print(\"Restored model, accuracy: {:5.2f}%\".format(100*acc))"
   ]
  },
  {
   "cell_type": "markdown",
   "metadata": {},
   "source": [
    "**检查点回调函数参数**\n",
    "\n",
    "检查点回调函数提供了很多参数：\n",
    "注释：\n",
    "1. tensorflow.keras.callbacks.ModelCheckpoint():\n",
    "```\n",
    "tensorflow.keras.callbacks.ModelCheckpoint = class ModelCheckpoint(Callback)\n",
    " |  Save the model after every epoch.\n",
    " |\n",
    " |  `filepath` can contain named formatting options,\n",
    " |  which will be filled the value of `epoch` and\n",
    " |  keys in `logs` (passed in `on_epoch_end`).\n",
    " |\n",
    " |  For example: if `filepath` is `weights.{epoch:02d}-{val_loss:.2f}.hdf5`,\n",
    " |  then the model checkpoints will be saved with the epoch number and\n",
    " |  the validation loss in the filename.\n",
    " |\n",
    " |  Arguments:\n",
    " |      filepath: string, path to save the model file.\n",
    " |      monitor: quantity to monitor.\n",
    " |      verbose: verbosity mode, 0 or 1.\n",
    " |      save_best_only: if `save_best_only=True`,\n",
    " |          the latest best model according to\n",
    " |          the quantity monitored will not be overwritten.\n",
    " |      mode: one of {auto, min, max}.\n",
    " |          If `save_best_only=True`, the decision\n",
    " |          to overwrite the current save file is made\n",
    " |          based on either the maximization or the\n",
    " |          minimization of the monitored quantity. For `val_acc`,\n",
    " |          this should be `max`, for `val_loss` this should\n",
    " |          be `min`, etc. In `auto` mode, the direction is\n",
    " |          automatically inferred from the name of the monitored quantity.\n",
    " |      save_weights_only: if True, then only the model's weights will be\n",
    " |          saved (`model.save_weights(filepath)`), else the full model\n",
    " |          is saved (`model.save(filepath)`).\n",
    " |      period: Interval (number of epochs) between checkpoints.\n",
    "```"
   ]
  },
  {
   "cell_type": "code",
   "execution_count": 19,
   "metadata": {},
   "outputs": [
    {
     "name": "stdout",
     "output_type": "stream",
     "text": [
      "training_2\n",
      "\n",
      "Epoch 00005: saving model to training_2/cp-0005.ckpt\n",
      "WARNING:tensorflow:This model was compiled with a Keras optimizer (<tensorflow.python.keras.optimizers.Adam object at 0x1303199e8>) but is being saved in TensorFlow format with `save_weights`. The model's weights will be saved, but unlike with TensorFlow optimizers in the TensorFlow format the optimizer's state will not be saved.\n",
      "\n",
      "Consider using a TensorFlow optimizer from `tf.train`.\n",
      "\n",
      "Epoch 00010: saving model to training_2/cp-0010.ckpt\n",
      "WARNING:tensorflow:This model was compiled with a Keras optimizer (<tensorflow.python.keras.optimizers.Adam object at 0x1303199e8>) but is being saved in TensorFlow format with `save_weights`. The model's weights will be saved, but unlike with TensorFlow optimizers in the TensorFlow format the optimizer's state will not be saved.\n",
      "\n",
      "Consider using a TensorFlow optimizer from `tf.train`.\n",
      "\n",
      "Epoch 00015: saving model to training_2/cp-0015.ckpt\n",
      "WARNING:tensorflow:This model was compiled with a Keras optimizer (<tensorflow.python.keras.optimizers.Adam object at 0x1303199e8>) but is being saved in TensorFlow format with `save_weights`. The model's weights will be saved, but unlike with TensorFlow optimizers in the TensorFlow format the optimizer's state will not be saved.\n",
      "\n",
      "Consider using a TensorFlow optimizer from `tf.train`.\n",
      "\n",
      "Epoch 00020: saving model to training_2/cp-0020.ckpt\n",
      "WARNING:tensorflow:This model was compiled with a Keras optimizer (<tensorflow.python.keras.optimizers.Adam object at 0x1303199e8>) but is being saved in TensorFlow format with `save_weights`. The model's weights will be saved, but unlike with TensorFlow optimizers in the TensorFlow format the optimizer's state will not be saved.\n",
      "\n",
      "Consider using a TensorFlow optimizer from `tf.train`.\n",
      "\n",
      "Epoch 00025: saving model to training_2/cp-0025.ckpt\n",
      "WARNING:tensorflow:This model was compiled with a Keras optimizer (<tensorflow.python.keras.optimizers.Adam object at 0x1303199e8>) but is being saved in TensorFlow format with `save_weights`. The model's weights will be saved, but unlike with TensorFlow optimizers in the TensorFlow format the optimizer's state will not be saved.\n",
      "\n",
      "Consider using a TensorFlow optimizer from `tf.train`.\n",
      "\n",
      "Epoch 00030: saving model to training_2/cp-0030.ckpt\n",
      "WARNING:tensorflow:This model was compiled with a Keras optimizer (<tensorflow.python.keras.optimizers.Adam object at 0x1303199e8>) but is being saved in TensorFlow format with `save_weights`. The model's weights will be saved, but unlike with TensorFlow optimizers in the TensorFlow format the optimizer's state will not be saved.\n",
      "\n",
      "Consider using a TensorFlow optimizer from `tf.train`.\n",
      "\n",
      "Epoch 00035: saving model to training_2/cp-0035.ckpt\n",
      "WARNING:tensorflow:This model was compiled with a Keras optimizer (<tensorflow.python.keras.optimizers.Adam object at 0x1303199e8>) but is being saved in TensorFlow format with `save_weights`. The model's weights will be saved, but unlike with TensorFlow optimizers in the TensorFlow format the optimizer's state will not be saved.\n",
      "\n",
      "Consider using a TensorFlow optimizer from `tf.train`.\n",
      "\n",
      "Epoch 00040: saving model to training_2/cp-0040.ckpt\n",
      "WARNING:tensorflow:This model was compiled with a Keras optimizer (<tensorflow.python.keras.optimizers.Adam object at 0x1303199e8>) but is being saved in TensorFlow format with `save_weights`. The model's weights will be saved, but unlike with TensorFlow optimizers in the TensorFlow format the optimizer's state will not be saved.\n",
      "\n",
      "Consider using a TensorFlow optimizer from `tf.train`.\n",
      "\n",
      "Epoch 00045: saving model to training_2/cp-0045.ckpt\n",
      "WARNING:tensorflow:This model was compiled with a Keras optimizer (<tensorflow.python.keras.optimizers.Adam object at 0x1303199e8>) but is being saved in TensorFlow format with `save_weights`. The model's weights will be saved, but unlike with TensorFlow optimizers in the TensorFlow format the optimizer's state will not be saved.\n",
      "\n",
      "Consider using a TensorFlow optimizer from `tf.train`.\n",
      "\n",
      "Epoch 00050: saving model to training_2/cp-0050.ckpt\n",
      "WARNING:tensorflow:This model was compiled with a Keras optimizer (<tensorflow.python.keras.optimizers.Adam object at 0x1303199e8>) but is being saved in TensorFlow format with `save_weights`. The model's weights will be saved, but unlike with TensorFlow optimizers in the TensorFlow format the optimizer's state will not be saved.\n",
      "\n",
      "Consider using a TensorFlow optimizer from `tf.train`.\n"
     ]
    },
    {
     "data": {
      "text/plain": [
       "<tensorflow.python.keras.callbacks.History at 0x1282d5a90>"
      ]
     },
     "execution_count": 19,
     "metadata": {},
     "output_type": "execute_result"
    }
   ],
   "source": [
    "# include the epoch in the file name. (uses `str.format`) 见上面注释即可理解\n",
    "checkpoint_path = 'training_2/cp-{epoch:04d}.ckpt'\n",
    "checkpoint_dir = os.path.dirname(checkpoint_path)\n",
    "print(os.path.dirname(checkpoint_path))\n",
    "\n",
    "cp_callback = tf.keras.callbacks.ModelCheckpoint(\n",
    "    checkpoint_path, verbose=1, save_weights_only=True,\n",
    "    # Save weights, every 5-epochs.\n",
    "    period=5)\n",
    "\n",
    "model = create_model()\n",
    "model.fit(train_images, train_labels,\n",
    "          epochs=50, callbacks=[cp_callback],\n",
    "          validation_data=(test_images, test_labels),\n",
    "          verbose=0)\n"
   ]
  },
  {
   "cell_type": "markdown",
   "metadata": {},
   "source": [
    "现在，看一下生成的检查点并选择最新检查点"
   ]
  },
  {
   "cell_type": "code",
   "execution_count": 27,
   "metadata": {},
   "outputs": [
    {
     "name": "stdout",
     "output_type": "stream",
     "text": [
      "checkpoint                       cp-0030.ckpt.data-00000-of-00001\n",
      "cp-0005.ckpt.data-00000-of-00001 cp-0030.ckpt.index\n",
      "cp-0005.ckpt.index               cp-0035.ckpt.data-00000-of-00001\n",
      "cp-0010.ckpt.data-00000-of-00001 cp-0035.ckpt.index\n",
      "cp-0010.ckpt.index               cp-0040.ckpt.data-00000-of-00001\n",
      "cp-0015.ckpt.data-00000-of-00001 cp-0040.ckpt.index\n",
      "cp-0015.ckpt.index               cp-0045.ckpt.data-00000-of-00001\n",
      "cp-0020.ckpt.data-00000-of-00001 cp-0045.ckpt.index\n",
      "cp-0020.ckpt.index               cp-0050.ckpt.data-00000-of-00001\n",
      "cp-0025.ckpt.data-00000-of-00001 cp-0050.ckpt.index\n",
      "cp-0025.ckpt.index\n",
      "***************************************************************************\n"
     ]
    },
    {
     "data": {
      "text/plain": [
       "'training_2/cp-0050.ckpt'"
      ]
     },
     "execution_count": 27,
     "metadata": {},
     "output_type": "execute_result"
    }
   ],
   "source": [
    "# import pathlib\n",
    "\n",
    "# # Sort the checkpoints by modification time.\n",
    "# checkpoints = pathlib.Path(checkpoint_dir).glob(\"*.index\")\n",
    "# print(pathlib.Path(checkpoint_dir).glob(\"*.index\"))\n",
    "# checkpoints = sorted(checkpoints, key=lambda cp:cp.stat().st_mtime)\n",
    "# checkpoints = [cp.with_suffix('') for cp in checkpoints]\n",
    "# latest = str(checkpoints[-1])\n",
    "# print(checkpoints)\n",
    "\n",
    "!ls {checkpoint_dir}\n",
    "\n",
    "print('*****' * 15)\n",
    "\n",
    "latest = tf.train.latest_checkpoint(checkpoint_dir)\n",
    "latest"
   ]
  },
  {
   "cell_type": "markdown",
   "metadata": {},
   "source": [
    "要进行测试，请重置模型并加载最新的检查点："
   ]
  },
  {
   "cell_type": "code",
   "execution_count": 40,
   "metadata": {},
   "outputs": [
    {
     "name": "stdout",
     "output_type": "stream",
     "text": [
      "1000/1000 [==============================] - 0s 242us/step\n",
      "Restored model, accuracy: 87.60%\n"
     ]
    }
   ],
   "source": [
    "model = create_model()\n",
    "model.load_weights(latest)\n",
    "loss, acc = model.evaluate(test_images, test_labels)\n",
    "print(\"Restored model, accuracy: {:5.2f}%\".format(100*acc))"
   ]
  },
  {
   "cell_type": "markdown",
   "metadata": {},
   "source": [
    "**这些是什么文件**\n",
    "\n",
    "---\n",
    "\n",
    "上述代码将权重存储在检查点格式的文件集合中，这些文件仅包含二进制格式的经过训练的权重。检查点包括： \n",
    "+ 包含模型权重的一个或多个分片。\n",
    "+ 指示哪些权重存储在哪些分片中的索引文件。\n",
    "\n",
    "如果您仅在一台机器上训练模型，则您将有1个后缀为 .data-00000-of-00001 的分片。\n",
    "\n",
    "**手动保存权重**\n",
    "\n",
    "---\n",
    "\n",
    "使用`Model.save_weights`方法；\n",
    "注释\n",
    "1. tensorflow.keras.Model.save_weights：\n",
    "```\n",
    "tensorflow.keras.Model.save_weights = save_weights(self, filepath, overwrite=True, save_format=None)\n",
    "    Saves all layer weights.\n",
    "\n",
    "    Either saves in HDF5 or in TensorFlow format based on the `save_format`\n",
    "    argument.\n",
    "\n",
    "    When saving in HDF5 format, the weight file has:\n",
    "      - `layer_names` (attribute), a list of strings\n",
    "          (ordered names of model layers).\n",
    "      - For every layer, a `group` named `layer.name`\n",
    "          - For every such layer group, a group attribute `weight_names`,\n",
    "              a list of strings\n",
    "              (ordered names of weights tensor of the layer).\n",
    "          - For every weight in the layer, a dataset\n",
    "              storing the weight value, named after the weight tensor.\n",
    "\n",
    "    When saving in TensorFlow format, all objects referenced by the network are\n",
    "    saved in the same format as `tf.train.Checkpoint`, including any `Layer`\n",
    "    instances or `Optimizer` instances assigned to object attributes. For\n",
    "    networks constructed from inputs and outputs using `tf.keras.Model(inputs,\n",
    "    outputs)`, `Layer` instances used by the network are tracked/saved\n",
    "    automatically. For user-defined classes which inherit from `tf.keras.Model`,\n",
    "    `Layer` instances must be assigned to object attributes, typically in the\n",
    "    constructor. See the documentation of `tf.train.Checkpoint` and\n",
    "    `tf.keras.Model` for details.\n",
    "\n",
    "    Arguments:\n",
    "        filepath: String, path to the file to save the weights to. When saving\n",
    "            in TensorFlow format, this is the prefix used for checkpoint files\n",
    "            (multiple files are generated). Note that the '.h5' suffix causes\n",
    "            weights to be saved in HDF5 format.\n",
    "        overwrite: Whether to silently overwrite any existing file at the\n",
    "            target location, or provide the user with a manual prompt.\n",
    "        save_format: Either 'tf' or 'h5'. A `filepath` ending in '.h5' or\n",
    "            '.keras' will default to HDF5 if `save_format` is `None`. Otherwise\n",
    "            `None` defaults to 'tf'.\n",
    "\n",
    "    Raises:\n",
    "        ImportError: If h5py is not available when attempting to save in HDF5\n",
    "            format.\n",
    "        ValueError: For invalid/unknown format arguments.\n",
    "```\n",
    "2. tensorflow.keras.Model.load_weights():\n",
    "```\n",
    "tensorflow.keras.Model.load_weights = load_weights(self, filepath, by_name=False)\n",
    "    Loads all layer weights, either from a TensorFlow or an HDF5 weight file.\n",
    "\n",
    "    If `by_name` is False weights are loaded based on the network's\n",
    "    topology. This means the architecture should be the same as when the weights\n",
    "    were saved.  Note that layers that don't have weights are not taken into\n",
    "    account in the topological ordering, so adding or removing layers is fine as\n",
    "    long as they don't have weights.\n",
    "\n",
    "    If `by_name` is True, weights are loaded into layers only if they share the\n",
    "    same name. This is useful for fine-tuning or transfer-learning models where\n",
    "    some of the layers have changed.\n",
    "\n",
    "    Only topological loading (`by_name=False`) is supported when loading weights\n",
    "    from the TensorFlow format. Note that topological loading differs slightly\n",
    "    between TensorFlow and HDF5 formats for user-defined classes inheriting from\n",
    "    `tf.keras.Model`: HDF5 loads based on a flattened list of weights, while the\n",
    "    TensorFlow format loads based on the object-local names of attributes to\n",
    "    which layers are assigned in the `Model`'s constructor.\n",
    "\n",
    "    Arguments:\n",
    "        filepath: String, path to the weights file to load. For weight files in\n",
    "            TensorFlow format, this is the file prefix (the same as was passed\n",
    "            to `save_weights`).\n",
    "        by_name: Boolean, whether to load weights by name or by topological\n",
    "            order. Only topological loading is supported for weight files in\n",
    "            TensorFlow format.\n",
    "\n",
    "    Returns:\n",
    "        When loading a weight file in TensorFlow format, returns the same status\n",
    "        object as `tf.train.Checkpoint.restore`. When graph building, restore\n",
    "        ops are run automatically as soon as the network is built (on first call\n",
    "        for user-defined classes inheriting from `Model`, immediately if it is\n",
    "        already built).\n",
    "\n",
    "        When loading weights in HDF5 format, returns `None`.\n",
    "\n",
    "    Raises:\n",
    "        ImportError: If h5py is not available and the weight file is in HDF5\n",
    "            format.\n",
    "```"
   ]
  },
  {
   "cell_type": "code",
   "execution_count": 41,
   "metadata": {},
   "outputs": [
    {
     "name": "stdout",
     "output_type": "stream",
     "text": [
      "WARNING:tensorflow:This model was compiled with a Keras optimizer (<tensorflow.python.keras.optimizers.Adam object at 0x132869978>) but is being saved in TensorFlow format with `save_weights`. The model's weights will be saved, but unlike with TensorFlow optimizers in the TensorFlow format the optimizer's state will not be saved.\n",
      "\n",
      "Consider using a TensorFlow optimizer from `tf.train`.\n",
      "1000/1000 [==============================] - 0s 245us/step\n",
      "Restored model, accuracy: 87.60%\n"
     ]
    }
   ],
   "source": [
    "# Save the weights\n",
    "model.save_weights('./checkpoints/my_checkpoint')\n",
    "\n",
    "# Restore the weights\n",
    "model = create_model()\n",
    "model.load_weights('./checkpoints/my_checkpoint')\n",
    "\n",
    "loss, acc = model.evaluate(test_images, test_labels)\n",
    "print(\"Restored model, accuracy: {:5.2f}%\".format(100*acc))\n"
   ]
  },
  {
   "cell_type": "markdown",
   "metadata": {},
   "source": [
    "**保存整个模型**\n",
    "\n",
    "---\n",
    "\n",
    "整个模型可以保存到一个文件中，其中包含**权重值、模型配置乃至优化器配置**。这样，您就可以为模型设置检查点，并稍后从完全相同的状态继续训练，而无需访问原始代码。\n",
    "\n",
    "在 Keras 中保存完全可正常使用的模型非常有用，您可以在[TensorFlow.js](https://js.tensorflow.org/tutorials/import-keras.html)中加载它们，然后在网络浏览器中训练和运行它们。\n",
    "\n",
    "Keras 使用[HDF5](https://en.wikipedia.org/wiki/Hierarchical_Data_Format)标准提供基本的保存格式。对于我们来说，可将保存的模型视为一个二进制 blob。\n"
   ]
  },
  {
   "cell_type": "code",
   "execution_count": 48,
   "metadata": {},
   "outputs": [
    {
     "name": "stdout",
     "output_type": "stream",
     "text": [
      "Epoch 1/5\n",
      "1000/1000 [==============================] - 1s 1ms/step - loss: 1.2003 - acc: 0.6600\n",
      "Epoch 2/5\n",
      "1000/1000 [==============================] - 0s 277us/step - loss: 0.4251 - acc: 0.8930\n",
      "Epoch 3/5\n",
      "1000/1000 [==============================] - 0s 273us/step - loss: 0.2791 - acc: 0.9270\n",
      "Epoch 4/5\n",
      "1000/1000 [==============================] - 0s 273us/step - loss: 0.2189 - acc: 0.9480\n",
      "Epoch 5/5\n",
      "1000/1000 [==============================] - 0s 344us/step - loss: 0.1582 - acc: 0.9660\n"
     ]
    }
   ],
   "source": [
    "model = create_model()\n",
    "\n",
    "model.fit(train_images, train_labels, epochs=5)\n",
    "\n",
    "# Save entire model to a HDF5 file\n",
    "model.save('my_model.h5')\n",
    "\n",
    "# Save entire model in a tf format not HDF5\n",
    "model.save('my_model_test')"
   ]
  },
  {
   "cell_type": "markdown",
   "metadata": {},
   "source": [
    "Now recreate the model from that file:"
   ]
  },
  {
   "cell_type": "code",
   "execution_count": 49,
   "metadata": {},
   "outputs": [
    {
     "name": "stdout",
     "output_type": "stream",
     "text": [
      "_________________________________________________________________\n",
      "Layer (type)                 Output Shape              Param #   \n",
      "=================================================================\n",
      "dense_42 (Dense)             (None, 512)               401920    \n",
      "_________________________________________________________________\n",
      "dropout_21 (Dropout)         (None, 512)               0         \n",
      "_________________________________________________________________\n",
      "dense_43 (Dense)             (None, 10)                5130      \n",
      "=================================================================\n",
      "Total params: 407,050\n",
      "Trainable params: 407,050\n",
      "Non-trainable params: 0\n",
      "_________________________________________________________________\n",
      "1_tf_basic_classification.ipynb     my_model_test\r\n",
      "5_tf_save_restore_keras_model.ipynb \u001b[1m\u001b[36mtraining_1\u001b[m\u001b[m\r\n",
      "\u001b[1m\u001b[36mcheckpoints\u001b[m\u001b[m                         \u001b[1m\u001b[36mtraining_2\u001b[m\u001b[m\r\n",
      "my_model.h5\r\n"
     ]
    }
   ],
   "source": [
    "# Recreate the exact same model, including weights and optimizer.\n",
    "new_model = keras.models.load_model('my_model.h5')\n",
    "new_model.summary()\n",
    "\n",
    "# check tf format model saved file.\n",
    "!ls"
   ]
  },
  {
   "cell_type": "code",
   "execution_count": 47,
   "metadata": {},
   "outputs": [
    {
     "name": "stdout",
     "output_type": "stream",
     "text": [
      "1000/1000 [==============================] - 0s 331us/step\n",
      "Restored model, accuracy: 86.40%\n"
     ]
    }
   ],
   "source": [
    "# Check its accuracy:\n",
    "loss, acc = new_model.evaluate(test_images, test_labels)\n",
    "print(\"Restored model, accuracy: {:5.2f}%\".format(100*acc))\n"
   ]
  },
  {
   "cell_type": "markdown",
   "metadata": {},
   "source": [
    "此技巧可保存以下所有内容：\n",
    "\n",
    "+ 权重值；\n",
    "+ 模型配置（架构）；\n",
    "+ 优化器配置；\n",
    "\n",
    "Keras 通过检查架构来保存模型。目前，它无法保存 TensorFlow 优化器（来自 tf.train）。使用此类优化器时，您需要在加载模型后对其进行重新编译，使优化器的状态变松散。Keras saves models by inspecting the architecture. Currently, it is not able to save TensorFlow optimizers (from tf.train). When using those you will need to re-compile the model after loading, and you will loose the state of the optimizer."
   ]
  },
  {
   "cell_type": "code",
   "execution_count": null,
   "metadata": {},
   "outputs": [],
   "source": []
  }
 ],
 "metadata": {
  "kernelspec": {
   "display_name": "Python (ml)",
   "language": "python",
   "name": "ml"
  },
  "language_info": {
   "codemirror_mode": {
    "name": "ipython",
    "version": 3
   },
   "file_extension": ".py",
   "mimetype": "text/x-python",
   "name": "python",
   "nbconvert_exporter": "python",
   "pygments_lexer": "ipython3",
   "version": "3.6.0"
  }
 },
 "nbformat": 4,
 "nbformat_minor": 2
}
