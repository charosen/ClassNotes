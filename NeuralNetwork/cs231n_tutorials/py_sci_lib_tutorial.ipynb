{
 "cells": [
  {
   "cell_type": "markdown",
   "metadata": {},
   "source": [
    "## Numpy\n",
    "\n",
    "[Numpy][]是python科学计算的核心库。它提供高性能的多维数组对象以及处理这些对象的工具\n",
    "\n",
    "[Numpy]: http://www.numpy.org/\n",
    "\n",
    "### Arrays对象\n",
    "\n",
    "一个numpy array是一组相同类型的数值的阵列，这些数值由非负整数索引。\n",
    "1. array.shap返回元组（行数，列数）；\n",
    "2. `np.array()`初始化array，使用索引访问array元素；\n"
   ]
  },
  {
   "cell_type": "code",
   "execution_count": 2,
   "metadata": {},
   "outputs": [
    {
     "name": "stdout",
     "output_type": "stream",
     "text": [
      "<class 'numpy.ndarray'>\n",
      "(3,)\n",
      "1 2 3\n",
      "[5 2 3]\n",
      "(2, 3)\n",
      "1 2 4\n"
     ]
    }
   ],
   "source": [
    "import numpy as np\n",
    "\n",
    "a = np.array([1, 2, 3])    # Create a rank i array\n",
    "print(type(a))             # Prints \"<class 'numpy.ndarray'>\"\n",
    "print(a.shape)             # Prints \"(3, )\"\n",
    "print(a[0], a[1], a[2])    # Prints \"1 2 3\"\n",
    "a[0] = 5                   # Change an element of the array\n",
    "print(a)                   # Prints \"[5, 2, 3]\"\n",
    "\n",
    "b = np.array([[1, 2, 3,], [4, 5, 6]])    # Create a rank 2 array\n",
    "print(b.shape)                           # Prints \"(2, 3)\"\n",
    "print(b[0, 0], b[0, 1], b[1, 0])         # Prints \"1 2 4\""
   ]
  },
  {
   "cell_type": "markdown",
   "metadata": {},
   "source": [
    "Numpy还提供了许多创建array的函数\n",
    "\n",
    "1. **numpy.zeros()**:\n",
    "```\n",
    "numpy.zeros = zeros(...)\n",
    "    zeros(shape, dtype=float, order='C')\n",
    "    \n",
    "    Return a new array of given shape and type, filled with zeros.\n",
    "\n",
    "    Parameters\n",
    "    zeros(shape, dtype=float, order='C')\n",
    "\n",
    "    Return a new array of given shape and type, filled with zeros.\n",
    "\n",
    "    Parameters\n",
    "    ----------\n",
    "    shape : int or tuple of ints\n",
    "        Shape of the new array, e.g., ``(2, 3)`` or ``2``.\n",
    "    dtype : data-type, optional\n",
    "        The desired data-type for the array, e.g., `numpy.int8`.  Default is\n",
    "        `numpy.float64`.\n",
    "    order : {'C', 'F'}, optional, default: 'C'\n",
    "        Whether to store multi-dimensional data in row-major\n",
    "        (C-style) or column-major (Fortran-style) order in\n",
    "        memory.\n",
    "\n",
    "    Returns\n",
    "    -------\n",
    "    out : ndarray\n",
    "        Array of zeros with the given shape, dtype, and order.\n",
    "```\n",
    "\n",
    "2. **numpy.ones()**:\n",
    "```\n",
    "numpy.ones = ones(shape, dtype=None, order='C')\n",
    "    Return a new array of given shape and type, filled with ones.\n",
    "\n",
    "    Parameters\n",
    "    ----------\n",
    "    shape : int or sequence of ints\n",
    "        Shape of the new array, e.g., ``(2, 3)`` or ``2``.\n",
    "    dtype : data-type, optional\n",
    "        The desired data-type for the array, e.g., `numpy.int8`.  Default is\n",
    "        `numpy.float64`.\n",
    "    order : {'C', 'F'}, optional, default: C\n",
    "        Whether to store multi-dimensional data in row-major\n",
    "        (C-style) or column-major (Fortran-style) order in\n",
    "        memory.\n",
    "\n",
    "    Returns\n",
    "    -------\n",
    "    out : ndarray\n",
    "        Array of ones with the given shape, dtype, and order.\n",
    "```\n",
    "\n",
    "3. **numpy.full()**:\n",
    "```\n",
    "numpy.full = full(shape, fill_value, dtype=None, order='C')\n",
    "    Return a new array of given shape and type, filled with `fill_value`.\n",
    "\n",
    "    Parameters\n",
    "    ----------\n",
    "    shape : int or sequence of ints\n",
    "        Shape of the new array, e.g., ``(2, 3)`` or ``2``.\n",
    "    fill_value : scalar\n",
    "        Fill value.\n",
    "    dtype : data-type, optional\n",
    "        The desired data-type for the array  The default, `None`, means\n",
    "         `np.array(fill_value).dtype`.\n",
    "    order : {'C', 'F'}, optional\n",
    "        Whether to store multidimensional data in C- or Fortran-contiguous\n",
    "        (row- or column-wise) order in memory.\n",
    "\n",
    "    Returns\n",
    "    -------\n",
    "    out : ndarray\n",
    "        Array of `fill_value` with the given shape, dtype, and order.\n",
    "```\n",
    "\n",
    "4. **numpy.eye()**:\n",
    "```\n",
    "numpy.eye = eye(N, M=None, k=0, dtype=<class 'float'>, order='C')\n",
    "    Return a 2-D array with ones on the diagonal and zeros elsewhere.\n",
    "\n",
    "    Parameters\n",
    "    ----------\n",
    "    N : int\n",
    "      Number of rows in the output.\n",
    "    M : int, optional\n",
    "      Number of columns in the output. If None, defaults to `N`.\n",
    "    k : int, optional\n",
    "      Index of the diagonal: 0 (the default) refers to the main diagonal,\n",
    "      a positive value refers to an upper diagonal, and a negative value\n",
    "      to a lower diagonal.\n",
    "    dtype : data-type, optional\n",
    "      Data-type of the returned array.\n",
    "    order : {'C', 'F'}, optional\n",
    "        Whether the output should be stored in row-major (C-style) or\n",
    "        column-major (Fortran-style) order in memory.\n",
    "\n",
    "        .. versionadded:: 1.14.0\n",
    "\n",
    "    Returns\n",
    "    -------\n",
    "    I : ndarray of shape (N,M)\n",
    "      An array where all elements are equal to zero, except for the `k`-th\n",
    "      diagonal, whose values are equal to one.\n",
    "```\n",
    "\n",
    "5. **numpy.random.random()**:\n",
    "```\n",
    "numpy.random.random = random_sample(...) method of mtrand.RandomState instance\n",
    "    random_sample(size=None)\n",
    "\n",
    "    Return random floats in the half-open interval [0.0, 1.0).\n",
    "\n",
    "    Results are from the \"continuous uniform\" distribution over the\n",
    "    stated interval.  To sample :math:`Unif[a, b), b > a` multiply\n",
    "    the output of `random_sample` by `(b-a)` and add `a`::\n",
    "\n",
    "      (b - a) * random_sample() + a\n",
    "\n",
    "    Parameters\n",
    "    ----------\n",
    "    size : int or tuple of ints, optional\n",
    "        Output shape.  If the given shape is, e.g., ``(m, n, k)``, then\n",
    "        ``m * n * k`` samples are drawn.  Default is None, in which case a\n",
    "        single value is returned.\n",
    "\n",
    "    Returns\n",
    "    -------\n",
    "    out : float or ndarray of floats\n",
    "        Array of random floats of shape `size` (unless ``size=None``, in which\n",
    "        case a single float is returned).\n",
    "\n",
    "    Examples\n",
    "    --------\n",
    "    >>> np.random.random_sample()\n",
    "    0.47108547995356098\n",
    "    >>> type(np.random.random_sample())\n",
    "    <type 'float'>\n",
    "    >>> np.random.random_sample((5,))\n",
    "    array([ 0.30220482,  0.86820401,  0.1654503 ,  0.11659149,  0.54323428])\n",
    "\n",
    "    Three-by-two array of random numbers from [-5, 0):\n",
    "\n",
    "    >>> 5 * np.random.random_sample((3, 2)) - 5\n",
    "    array([[-3.99149989, -0.52338984],\n",
    "           [-2.99091858, -0.79479508],\n",
    "           [-1.23204345, -1.75224494]])\n",
    "```"
   ]
  },
  {
   "cell_type": "code",
   "execution_count": 15,
   "metadata": {},
   "outputs": [
    {
     "name": "stdout",
     "output_type": "stream",
     "text": [
      "np.zeros((2, 2)):\n",
      "[[0. 0.]\n",
      " [0. 0.]]\n",
      "np.ones((1, 2)):\n",
      "[[1. 1.]]\n",
      "np.full((2, 2), 7):\n",
      "[[7 7]\n",
      " [7 7]]\n",
      "np.eye(2):\n",
      "[[1. 0.]\n",
      " [0. 1.]]\n",
      "np.random.random((2, 2)):\n",
      "[[0.32544706 0.18270499]\n",
      " [0.50596798 0.26109955]]\n"
     ]
    }
   ],
   "source": [
    "### import numpy as np\n",
    "\n",
    "a = np.zeros((2, 2))\n",
    "print('np.zeros((2, 2)):', a, sep='\\n')\n",
    "\n",
    "b = np.ones((1, 2))\n",
    "print('np.ones((1, 2)):', b, sep='\\n')\n",
    "\n",
    "c = np.full((2, 2), 7)\n",
    "print('np.full((2, 2), 7):', c, sep='\\n')\n",
    "\n",
    "d = np.eye(2)\n",
    "print('np.eye(2):', d, sep='\\n')\n",
    "\n",
    "e = np.random.random((2, 2))\n",
    "print('np.random.random((2, 2)):', e, sep='\\n')"
   ]
  },
  {
   "cell_type": "markdown",
   "metadata": {},
   "source": [
    "### Array indexing\n",
    "\n",
    "1. **切片Slicing**：与python中的切片索引相同，array可以是多维，所以必须指定每一维的切片；"
   ]
  },
  {
   "cell_type": "code",
   "execution_count": 26,
   "metadata": {},
   "outputs": [
    {
     "name": "stdout",
     "output_type": "stream",
     "text": [
      "(2, 2)\n",
      "before changing b[0, 0]: 2\n",
      "after changing b[0, 0]: 77\n",
      "a now is\n",
      "[[ 1 77  3  4]\n",
      " [ 5  6  7  8]\n",
      " [ 9 10 11 12]]\n",
      "a[:, :3]:\n",
      "[[ 1 77  3]\n",
      " [ 5  6  7]\n",
      " [ 9 10 11]]\n",
      "a[:, :3].shape: (3, 3)\n"
     ]
    }
   ],
   "source": [
    "import numpy as np\n",
    "\n",
    "# Create the following rank 2 array with shape (3, 4)\n",
    "# [[ 1  2  3  4]\n",
    "#  [ 5  6  7  8]\n",
    "#  [ 9 10 11 12]]\n",
    "a = np.array([[1, 2, 3, 4], [5, 6, 7, 8], [9, 10, 11, 12]])\n",
    "\n",
    "# Use slicing to pull out the subarray consisting of the first 2 rows\n",
    "# and columns 1 and 2; b is the following array of shape (2, 2):\n",
    "# [[2 3]\n",
    "#  [6 7]]\n",
    "b = a[:2, 1:3]\n",
    "print(b.shape)\n",
    "\n",
    "# A slice of an array is a view into the same data, so modifying it\n",
    "# will modify the original array.\n",
    "# 所有切片操作返回的是包含请求元素的原序列的浅拷贝\n",
    "print('before changing b[0, 0]:', a[0, 1])\n",
    "b[0, 0] = 77\n",
    "print('after changing b[0, 0]:', a[0, 1])\n",
    "print('a now is', a, sep='\\n')\n",
    "c = a[:, :3]\n",
    "print('a[:, :3]:', c, sep='\\n')\n",
    "print('a[:, :3].shape:', c.shape)"
   ]
  },
  {
   "cell_type": "markdown",
   "metadata": {},
   "source": [
    "2. **切片Slicing与正负索引混合使用**：However, doing so will yield an array of lower rank than the original array(方括号个数有区别). Note that this is quite different from the way that MATLAB handles array slicing:"
   ]
  },
  {
   "cell_type": "code",
   "execution_count": 29,
   "metadata": {},
   "outputs": [
    {
     "name": "stdout",
     "output_type": "stream",
     "text": [
      "row_r1: [5 6 7 8] row_r1.shape: (4,)\n",
      "row_r2: [[5 6 7 8]] row_r2.shape: (1, 4)\n",
      "col_r1: [ 2  6 10] col_r1.shape: (3,)\n",
      "col_r2: [[ 2]\n",
      " [ 6]\n",
      " [10]] col_r2.shape: (3, 1)\n"
     ]
    }
   ],
   "source": [
    "import numpy as np\n",
    "\n",
    "# Create the following rank 2 array with shape (3, 4)\n",
    "# [[ 1  2  3  4]\n",
    "#  [ 5  6  7  8]\n",
    "#  [ 9 10 11 12]]\n",
    "a = np.array([[1, 2, 3, 4], [5, 6, 7, 8], [9, 10, 11, 12]])\n",
    "\n",
    "# Two ways of accessing the data in the middle row of the array.\n",
    "# Mixing integer indexing with slices yields an array of lower rank,\n",
    "# while using only slices yields an array of the same rank as the\n",
    "# original array:、\n",
    "# (方括号个数有区别)，混合索引返回的是低维array，而不是与原array相同维array\n",
    "row_r1 = a[1, :]    # Rank 1 view of the second row of a\n",
    "row_r2 = a[1:2, :]  # Rank 2 view of the second row of a\n",
    "print('row_r1:', row_r1, 'row_r1.shape:', row_r1.shape)\n",
    "print('row_r2:', row_r2, 'row_r2.shape:', row_r2.shape)\n",
    "\n",
    "# 在列索引上也有相同效果\n",
    "col_r1 = a[:, 1]\n",
    "col_r2 = a[:, 1:2]\n",
    "print('col_r1:', col_r1, 'col_r1.shape:', col_r1.shape)\n",
    "print('col_r2:', col_r2, 'col_r2.shape:', col_r2.shape)\n"
   ]
  },
  {
   "cell_type": "markdown",
   "metadata": {},
   "source": [
    "3. **正负索引**：索引会创建新array对象，而不是引用"
   ]
  },
  {
   "cell_type": "code",
   "execution_count": 38,
   "metadata": {},
   "outputs": [
    {
     "name": "stdout",
     "output_type": "stream",
     "text": [
      "[1 4 5]\n",
      "[1 4 5]\n",
      "[2 2]\n",
      "[2 2]\n",
      "[1 4 5]\n",
      "[[1 2]\n",
      " [3 4]\n",
      " [5 6]] [2, 3, 6]\n"
     ]
    }
   ],
   "source": [
    "import numpy as np\n",
    "\n",
    "a = np.array([[1, 2], [3, 4], [5, 6]])\n",
    "\n",
    "# An example of integer array indexing.\n",
    "# The returned array will have shape (3,) and\n",
    "print(a[[0, 1, 2], [0, 1, 0]])\n",
    "\n",
    "# The above example of integer array indexing is equivalent to this:\n",
    "print(np.array([a[0, 0], a[1, 1], a[2,0]]))\n",
    "\n",
    "# When using integer array indexing, you can reuse the same\n",
    "# element from the source array:\n",
    "print(a[[0, 0], [1, 1]])\n",
    "\n",
    "# Equivalent to the previous integer array indexing example\n",
    "print(np.array([a[0, 1], a[0, 1]]))\n",
    "\n",
    "# 元素索引会创建新array对象，而不是引用\n",
    "b = a[[0, 1, 2], [0, 1, 0]]\n",
    "print(b)\n",
    "b = [2, 3, 6]\n",
    "print(a, b)"
   ]
  },
  {
   "cell_type": "markdown",
   "metadata": {},
   "source": [
    "正负索引的一个技巧是使用正负索引来从每一行中选取/修改元素"
   ]
  },
  {
   "cell_type": "code",
   "execution_count": 39,
   "metadata": {},
   "outputs": [
    {
     "name": "stdout",
     "output_type": "stream",
     "text": [
      "[[ 1  2  3]\n",
      " [ 4  5  6]\n",
      " [ 7  8  9]\n",
      " [10 11 12]]\n",
      "[ 1  6  7 11]\n",
      "[[11  2  3]\n",
      " [ 4  5 16]\n",
      " [17  8  9]\n",
      " [10 21 12]]\n"
     ]
    }
   ],
   "source": [
    "import numpy as np\n",
    "\n",
    "# Create a new array from which we will select elements\n",
    "a = np.array([[1, 2, 3], [4, 5, 6], [7, 8, 9], [10, 11, 12]])\n",
    "\n",
    "print(a) # prints \"array([[ 1,  2,  3],\n",
    "         #                [ 4,  5,  6],\n",
    "         #                [ 7,  8,  9],\n",
    "         #                [10, 11, 12]])\"\n",
    "\n",
    "# Create an array of indices\n",
    "b = np.array([0, 2, 0, 1])\n",
    "\n",
    "# Select one element from each row of a using the indices in b\n",
    "print(a[np.arange(4), b])\n",
    "\n",
    "# Mutate one element from each row of a using the indices in b\n",
    "a[np.arange(4), b] += 10\n",
    "\n",
    "print(a)  # prints \"array([[11,  2,  3],\n",
    "          #                [ 4,  5, 16],\n",
    "          #                [17,  8,  9],\n",
    "          #                [10, 21, 12]])"
   ]
  },
  {
   "cell_type": "markdown",
   "metadata": {},
   "source": [
    "4. **布尔索引**：\n",
    "    + 使用与原数组相同维度的布尔数组来索引，返回布尔数组中True索引的元素组成的数组；\n",
    "    + 布尔索引通常用于索引满足某种条件的元素；\n",
    "    + array的比较操作返回一个布尔数组，布尔数组可以用于布尔索引；"
   ]
  },
  {
   "cell_type": "code",
   "execution_count": 40,
   "metadata": {},
   "outputs": [
    {
     "name": "stdout",
     "output_type": "stream",
     "text": [
      "a > 2 return\n",
      "[[False False]\n",
      " [ True  True]\n",
      " [ True  True]]\n",
      "[3 4 5 6]\n",
      "[3 4 5 6]\n"
     ]
    }
   ],
   "source": [
    "import numpy as np\n",
    "\n",
    "a = np.array([[1, 2], [3, 4], [5, 6]])\n",
    "\n",
    "bool_idx = (a > 2)    # 比较操作返回一个布尔数组，a中元素大于2，则返回True；a中元素小于等于2，则返回False;\n",
    "\n",
    "\n",
    "print('a > 2 return', bool_idx, sep='\\n')\n",
    "\n",
    "# We use boolean array indexing to construct a rank 1 array\n",
    "# consisting of the elements of a corresponding to the True values\n",
    "# of bool_idx\n",
    "print(a[bool_idx])\n",
    "\n",
    "# We can do all of the above in a single concise statement:\n",
    "print(a[a > 2])"
   ]
  },
  {
   "cell_type": "markdown",
   "metadata": {},
   "source": [
    "更多关于array索引的内容，请参阅[documentation](http://docs.scipy.org/doc/numpy/reference/arrays.indexing.html)\n",
    "\n",
    "\n",
    "### Datatypes\n",
    "\n",
    "numpy中array元素的数据类型可以是很多种，例如int64, float64..."
   ]
  },
  {
   "cell_type": "code",
   "execution_count": 41,
   "metadata": {},
   "outputs": [
    {
     "name": "stdout",
     "output_type": "stream",
     "text": [
      "int64\n",
      "float64\n",
      "float64\n"
     ]
    }
   ],
   "source": [
    "import numpy as np\n",
    "\n",
    "x = np.array([1, 2])\n",
    "print(x.dtype)\n",
    "\n",
    "x = np.array([1., 2.])\n",
    "print(x.dtype)\n",
    "\n",
    "x = np.array([1, 2], dtype=np.float64)\n",
    "print(x.dtype)"
   ]
  },
  {
   "cell_type": "markdown",
   "metadata": {},
   "source": [
    "### Array math\n",
    "\n",
    "numpy为数组简单计算提供了运算符和函数："
   ]
  },
  {
   "cell_type": "code",
   "execution_count": 44,
   "metadata": {},
   "outputs": [
    {
     "name": "stdout",
     "output_type": "stream",
     "text": [
      "x + y =\n",
      "[[ 6.  8.]\n",
      " [10. 12.]]\n",
      "np.add(x, y) =\n",
      "[[ 6.  8.]\n",
      " [10. 12.]]\n",
      "x - y =\n",
      "[[-4. -4.]\n",
      " [-4. -4.]]\n",
      "np.subtract(x, y) = [[-4. -4.]\n",
      " [-4. -4.]]\n",
      "x * y =\n",
      "[[ 5. 12.]\n",
      " [21. 32.]]\n",
      "np.multiply(x, y) =\n",
      "[[ 5. 12.]\n",
      " [21. 32.]]\n",
      "x / y =\n",
      "[[0.2        0.33333333]\n",
      " [0.42857143 0.5       ]]\n",
      "np.divide(x, y) =\n",
      "[[0.2        0.33333333]\n",
      " [0.42857143 0.5       ]]\n",
      "np.sqrt(x) =\n",
      "[[1.         1.41421356]\n",
      " [1.73205081 2.        ]]\n"
     ]
    }
   ],
   "source": [
    "import numpy as np\n",
    "\n",
    "\n",
    "x = np.array([[1, 2], [3, 4]], dtype=np.float64)\n",
    "y = np.array([[5, 6], [7, 8]], dtype=np.float64)\n",
    "\n",
    "# Elementwise sum; both produce the array\n",
    "# [[ 6.0  8.0]\n",
    "#  [10.0 12.0]]\n",
    "print('x + y =', x+y, sep='\\n')\n",
    "print('np.add(x, y) =', np.add(x, y), sep='\\n')\n",
    "\n",
    "# Elementwise difference; both produce the array\n",
    "# [[-4.0 -4.0]\n",
    "#  [-4.0 -4.0]]\n",
    "print('x - y =', x-y, sep='\\n')\n",
    "print('np.subtract(x, y) =', np.subtract(x, y))\n",
    "\n",
    "# Elementwise product; both produce the array\n",
    "# [[ 5.0 12.0]\n",
    "#  [21.0 32.0]]\n",
    "# 不是矩阵乘法，而是元素对位相乘\n",
    "print('x * y =', x*y, sep='\\n')\n",
    "print('np.multiply(x, y) =', np.multiply(x, y), sep='\\n')\n",
    "\n",
    "# Elementwise division; both produce the array\n",
    "# [[ 0.2         0.33333333]\n",
    "#  [ 0.42857143  0.5       ]]\n",
    "# 不是矩阵除法，而是元素对位相除\n",
    "print('x / y =', x/y, sep='\\n')\n",
    "print('np.divide(x, y) =', np.divide(x, y), sep='\\n')\n",
    "\n",
    "# Elementwise square root; produces the array\n",
    "# [[ 1.          1.41421356]\n",
    "#  [ 1.73205081  2.        ]]\n",
    "# 不是矩阵开方，而是各元素开根号\n",
    "print('np.sqrt(x) =', np.sqrt(x), sep='\\n')"
   ]
  },
  {
   "cell_type": "markdown",
   "metadata": {},
   "source": [
    "numpy使用`dot`来进行矩阵乘法，向量内积，`dot`既是模块函数，又可以是实例方法，左侧矩阵*右侧矩阵"
   ]
  },
  {
   "cell_type": "code",
   "execution_count": 45,
   "metadata": {},
   "outputs": [
    {
     "name": "stdout",
     "output_type": "stream",
     "text": [
      "v.dot(w) =\n",
      "219\n",
      "np.dot(v, w) =\n",
      "219\n",
      "x.dot(v) =\n",
      "[29 67]\n",
      "v.dot(x) =\n",
      "[39 58]\n",
      "np.dot(x, v) =\n",
      "[29 67]\n",
      "np.dot(v, x) =\n",
      "[39 58]\n",
      "[[19 22]\n",
      " [43 50]]\n",
      "[[19 22]\n",
      " [43 50]]\n",
      "[[23 34]\n",
      " [31 46]]\n",
      "[[23 34]\n",
      " [31 46]]\n"
     ]
    }
   ],
   "source": [
    "import numpy as np\n",
    "\n",
    "\n",
    "x = np.array([[1, 2], [3, 4]])\n",
    "y = np.array([[5, 6], [7, 8]])\n",
    "\n",
    "v = np.array([9, 10])\n",
    "w = np.array([11, 12])\n",
    "\n",
    "# Inner product of vectors; both produce 219\n",
    "print('v.dot(w) =', v.dot(w), sep='\\n')\n",
    "print('np.dot(v, w) =', np.dot(v, w), sep='\\n')\n",
    "\n",
    "# Matrix / vector product; both produce the rank 1 array [29 67]\n",
    "print('x.dot(v) =', x.dot(v), sep='\\n')\n",
    "print('v.dot(x) =', v.dot(x), sep='\\n')\n",
    "print('np.dot(x, v) =', np.dot(x, v), sep='\\n')\n",
    "print('np.dot(v, x) =', np.dot(v, x), sep='\\n')\n",
    "\n",
    "# Matrix / matrix product; both produce the rank 2 array\n",
    "# [[19 22]\n",
    "#  [43 50]]\n",
    "print(x.dot(y))\n",
    "print(np.dot(x, y))\n",
    "print(y.dot(x))\n",
    "print(np.dot(y, x))"
   ]
  },
  {
   "cell_type": "markdown",
   "metadata": {},
   "source": [
    "numpy使用`sum`来进行矩阵内元素求和"
   ]
  },
  {
   "cell_type": "code",
   "execution_count": 46,
   "metadata": {},
   "outputs": [
    {
     "name": "stdout",
     "output_type": "stream",
     "text": [
      "10\n",
      "[4 6]\n",
      "[3 7]\n"
     ]
    }
   ],
   "source": [
    "import numpy as np\n",
    "\n",
    "\n",
    "x = np.array([[1, 2], [3, 4]])\n",
    "\n",
    "\n",
    "print(np.sum(x))             # Compute sum of all elements; prints \"10\"\n",
    "print(np.sum(x, axis=0))     # Compute sum of each column; prints \"[4 6]\"\n",
    "print(np.sum(x, axis=1))     # Compute sum of each row; prints \"[3 7]\""
   ]
  },
  {
   "cell_type": "markdown",
   "metadata": {},
   "source": [
    "更多关于数组运算的方法，请参阅[documentation](http://docs.scipy.org/doc/numpy/reference/routines.math.html)\n",
    "\n",
    "`array.T`返回array的转置"
   ]
  },
  {
   "cell_type": "code",
   "execution_count": 47,
   "metadata": {},
   "outputs": [
    {
     "name": "stdout",
     "output_type": "stream",
     "text": [
      "[[1 2]\n",
      " [3 4]]\n",
      "[[1 3]\n",
      " [2 4]]\n",
      "[1 2 3]\n",
      "[1 2 3]\n"
     ]
    }
   ],
   "source": [
    "import numpy as np\n",
    "\n",
    "\n",
    "x = np.array([[1, 2], [3, 4]])\n",
    "print(x)    # Prints \"[[1 2]\n",
    "            #          [3 4]]\"\n",
    "print(x.T)  # Prints \"[[1 3]\n",
    "            #          [2 4]]\"\n",
    "\n",
    "# Note that taking the transpose of a rank 1 array does nothing:\n",
    "v = np.array([1, 2, 3])\n",
    "print(v)    # Prints \"[1, 2, 3]\"\n",
    "print(v.T)  # Prints \"[1 2 3]\""
   ]
  },
  {
   "cell_type": "markdown",
   "metadata": {},
   "source": [
    "关于所有数组的方法，请参阅[docmentation](http://docs.scipy.org/doc/numpy/reference/routines.array-manipulation.html)\n",
    "\n",
    "### Broadcasting\n",
    "\n",
    "Broadcasting是允许numpy对不同shape的数组进行算术运算的一个重要机制。大多数情况下，我们拿到的是一个smaller array和一个larger array，并且我们希望多次使用smaller array来对larger array进行多次操作。\n",
    "\n",
    "例如，假设我们想要对数组x的每一行加上一个常向量v，我们可以用一下方法实现："
   ]
  },
  {
   "cell_type": "code",
   "execution_count": 48,
   "metadata": {},
   "outputs": [
    {
     "name": "stdout",
     "output_type": "stream",
     "text": [
      "[[ 2  2  4]\n",
      " [ 5  5  7]\n",
      " [ 8  8 10]\n",
      " [11 11 13]]\n"
     ]
    }
   ],
   "source": [
    "import numpy as np\n",
    "\n",
    "\n",
    "# We will add the vector v to each row of the matrix x,\n",
    "# storing the result in the matrix y\n",
    "x = np.array([[1, 2, 3], [4, 5, 6], [7, 8, 9], [10, 11, 12]])\n",
    "v = np.array([1, 0, 1])\n",
    "y = np.empty_like(x)   # Create an empty matrix with the same shape as x\n",
    "\n",
    "# Add the vector v to each row of the matrix x with an explicit loop\n",
    "for i in range(4):\n",
    "    y[i, :] = x[i, :] + v\n",
    "\n",
    "# Now y is the following\n",
    "# [[ 2  2  4]\n",
    "#  [ 5  5  7]\n",
    "#  [ 8  8 10]\n",
    "#  [11 11 13]]\n",
    "print(y)"
   ]
  },
  {
   "cell_type": "markdown",
   "metadata": {},
   "source": [
    "**numpy.empty_like()**:\n",
    "```\n",
    "numpy.empty_like = empty_like(...)\n",
    "    empty_like(prototype, dtype=None, order='K', subok=True)\n",
    "\n",
    "    Return a new array with the same shape and type as a given array.\n",
    "\n",
    "    Parameters\n",
    "    ----------\n",
    "    prototype : array_like\n",
    "        The shape and data-type of `prototype` define these same attributes\n",
    "        of the returned array.\n",
    "    dtype : data-type, optional\n",
    "        Overrides the data type of the result.\n",
    "\n",
    "        .. versionadded:: 1.6.0\n",
    "    order : {'C', 'F', 'A', or 'K'}, optional\n",
    "        Overrides the memory layout of the result. 'C' means C-order,\n",
    "        'F' means F-order, 'A' means 'F' if ``prototype`` is Fortran\n",
    "        contiguous, 'C' otherwise. 'K' means match the layout of ``prototype``\n",
    "        as closely as possible.\n",
    "\n",
    "        .. versionadded:: 1.6.0\n",
    "    subok : bool, optional.\n",
    "        If True, then the newly created array will use the sub-class\n",
    "        type of 'a', otherwise it will be a base-class array. Defaults\n",
    "        to True.\n",
    "\n",
    "    Returns\n",
    "    -------\n",
    "    out : ndarray\n",
    "        Array of uninitialized (arbitrary) data with the same\n",
    "        shape and type as `prototype`.\n",
    "\n",
    "    See Also\n",
    "    --------\n",
    "    ones_like : Return an array of ones with shape and type of input.\n",
    "    zeros_like : Return an array of zeros with shape and type of input.\n",
    "    full_like : Return a new array with shape of input filled with value.\n",
    "    empty : Return a new uninitialized array.\n",
    "```"
   ]
  },
  {
   "cell_type": "markdown",
   "metadata": {},
   "source": [
    "上述方法可以实现；但是当矩阵x非常大时，在python中执行循环会十分耗费时间；注意到矩阵x的每一行都加上向量v等价于垂直地堆叠行向量v来构造矩阵vv，并用矩阵vv与矩阵x相加。实现如下："
   ]
  },
  {
   "cell_type": "code",
   "execution_count": 49,
   "metadata": {},
   "outputs": [
    {
     "name": "stdout",
     "output_type": "stream",
     "text": [
      "[[1 0 1]\n",
      " [1 0 1]\n",
      " [1 0 1]\n",
      " [1 0 1]]\n",
      "[[ 2  2  4]\n",
      " [ 5  5  7]\n",
      " [ 8  8 10]\n",
      " [11 11 13]]\n"
     ]
    }
   ],
   "source": [
    "import numpy as np\n",
    "\n",
    "\n",
    "# We will add the vector v to each row of the matrix x,\n",
    "# storing the result in the matrix y\n",
    "x = np.array([[1, 2, 3], [4, 5, 6], [7, 8, 9], [10, 11, 12]])\n",
    "v = np.array([1, 0, 1])\n",
    "vv = np.tile(v, (4, 1))   # Stack 4 copies of v on top of each other\n",
    "print(vv)                 # Prints \"[[1 0 1]\n",
    "                          #          [1 0 1]\n",
    "                          #          [1 0 1]\n",
    "                          #          [1 0 1]]\"\n",
    "y = x + vv  # Add x and vv elementwise\n",
    "print(y)  # Prints \"[[ 2  2  4\n",
    "          #          [ 5  5  7]\n",
    "          #          [ 8  8 10]\n",
    "          #          [11 11 13]]\""
   ]
  },
  {
   "cell_type": "markdown",
   "metadata": {},
   "source": [
    "但是上述方法耗费内存，空间复杂度换取时间复杂度；\n",
    "\n",
    "下面我们介绍numpy的broadcasting机制。numpy的broadcasting机制允许我们实现上述操作而不用创建多个v向量的副本，使用broadcasting实现如下："
   ]
  },
  {
   "cell_type": "code",
   "execution_count": 50,
   "metadata": {},
   "outputs": [
    {
     "name": "stdout",
     "output_type": "stream",
     "text": [
      "[[ 2  2  4]\n",
      " [ 5  5  7]\n",
      " [ 8  8 10]\n",
      " [11 11 13]]\n"
     ]
    }
   ],
   "source": [
    "import numpy as np\n",
    "\n",
    "# We will add the vector v to each row of the matrix x,\n",
    "# storing the result in the matrix y\n",
    "x = np.array([[1, 2, 3], [4, 5, 6], [7, 8, 9], [10, 11, 12]])\n",
    "v = np.array([1, 0, 1])\n",
    "\n",
    "y = x + v  # Add v to each row of x using broadcasting\n",
    "print(y)  # Prints \"[[ 2  2  4]\n",
    "          #          [ 5  5  7]\n",
    "          #          [ 8  8 10]\n",
    "          #          [11 11 13]]\""
   ]
  },
  {
   "cell_type": "markdown",
   "metadata": {},
   "source": [
    "The line y = x + v works even though x has shape (4, 3) and v has shape (3,) due to broadcasting; this line works as if v actually had shape (4, 3), where each row was a copy of v, and the sum was performed elementwise."
   ]
  },
  {
   "cell_type": "markdown",
   "metadata": {},
   "source": [
    "**Broadcasting基本准则**：\n",
    "1. 对两个阵进行操作时，NumPy逐元素地比较他们的形状，从后面的维度向前执行。If the arrays do not have the same rank, **prepend**(意味着从后往前) the shape of the lower rank array with 1s until both shapes have the same length.\n",
    "2. 当以下情形出现时，两个维度是compatible：a)它们相等; b)其中一个是1;The two arrays are said to be compatible in a dimension if they have the same size in the dimension, or if one of the arrays has size 1 in that dimension.\n",
    "3. 如果两个矩阵在各个维度上competible，则他们是可broadcasting的；The arrays can be broadcast together if they are compatible in all dimensions.\n",
    "4. broadcasting后，结果矩阵的尺寸与各个输入矩阵的各维度最大尺寸相同。After broadcasting, each array behaves as if it had shape equal to the elementwise maximum of shapes of the two input arrays.\n",
    "5. 尺寸为1的维度将延展或“复制”到与另一个维度匹配。In any dimension where one array had size 1 and the other array had size greater than 1, the first array behaves as if it were copied along that dimension\n",
    "\n",
    "详细解释请参阅[官方文档](http://docs.scipy.org/doc/numpy/user/basics.broadcasting.html)和[参考材料](https://blog.csdn.net/hongxingabc/article/details/53149655)"
   ]
  },
  {
   "cell_type": "code",
   "execution_count": 52,
   "metadata": {},
   "outputs": [
    {
     "name": "stdout",
     "output_type": "stream",
     "text": [
      "[[ 4  5]\n",
      " [ 8 10]\n",
      " [12 15]]\n",
      "[[2 4 6]\n",
      " [5 7 9]]\n",
      "[[ 5  6  7]\n",
      " [ 9 10 11]]\n",
      "[[ 5  6  7]\n",
      " [ 9 10 11]]\n",
      "[[ 2  4  6]\n",
      " [ 8 10 12]]\n"
     ]
    }
   ],
   "source": [
    "import numpy as np\n",
    "\n",
    "# Compute outer product of vertors\n",
    "v = np.array([1, 2, 3])  # v has shape (3, )\n",
    "w = np.array([4, 5])     # w has shape (2, )\n",
    "# To compute an outer product, we first reshape v to be a column\n",
    "# vector of shape (3, 1); we can then broadcast it against w to yield\n",
    "# an output of shape (3, 2), which is the outer product of v and w:\n",
    "print(np.reshape(v, (3, 1)) * w)\n",
    "\n",
    "# Add a vector to each row of a matrix\n",
    "x = np.array([[1, 2, 3], [4, 5, 6]])\n",
    "# x has shape (2, 3) and v has shape (3,) so they broadcast to (2, 3),\n",
    "# giving the following matrix:\n",
    "# [[2 4 6]\n",
    "#  [5 7 9]]\n",
    "print(x + v)\n",
    "\n",
    "# Add a vector to each column of a matrix\n",
    "# x has shape (2, 3) and w has shape (2,).\n",
    "# If we transpose x then it has shape (3, 2) and can be broadcast\n",
    "# against w to yield a result of shape (3, 2); transposing this result\n",
    "# yields the final result of shape (2, 3) which is the matrix x with\n",
    "# the vector w added to each column. Gives the following matrix:\n",
    "# [[ 5  6  7]\n",
    "#  [ 9 10 11]]\n",
    "print((x.T + w).T)\n",
    "\n",
    "# Another solution is to reshape w to be a column vector of shape (2, 1);\n",
    "# we can then broadcast it directly against x to produce the same\n",
    "# output.\n",
    "print(x + np.reshape(w, (2, 1)))\n",
    "\n",
    "# Multiply a matrix by a constant:\n",
    "# x has shape (2, 3). Numpy treats scalars as arrays of shape ();\n",
    "# these can be broadcast together to shape (2, 3), producing the\n",
    "# following array:\n",
    "# [[ 2  4  6]\n",
    "#  [ 8 10 12]]\n",
    "print(x * 2)"
   ]
  },
  {
   "cell_type": "markdown",
   "metadata": {},
   "source": [
    "**Numpy Documentation**\n",
    "\n",
    "关于numpy的详细信息，请查看[官方文档](http://docs.scipy.org/doc/numpy/reference/)\n",
    "\n",
    "### SciPy\n",
    "\n",
    "Numpy提供了高性能的多维数组以及计算、操作这些数组的基本工具。[SciPy](http://docs.scipy.org/doc/scipy/reference/)构建在numpy的基础上，提供了大量操作numpy数组的函数，这有利于不同类型的科学和工程应用。\n",
    "\n",
    "熟悉SciPy的最佳路径是学习[SciPy Documentation](http://docs.scipy.org/doc/scipy/reference/index.html)。在此处，我们只提及对于本课程有用的部分SciPy内容。"
   ]
  },
  {
   "cell_type": "markdown",
   "metadata": {},
   "source": [
    "**Image operations**\n",
    "\n",
    "SciPy provides some basic functions to work with images. For example, it has functions to read images from disk into numpy arrays, to write numpy arrays to disk as images, and to resize images. Here is a simple example that showcases these functions:"
   ]
  },
  {
   "cell_type": "code",
   "execution_count": 53,
   "metadata": {},
   "outputs": [
    {
     "ename": "ImportError",
     "evalue": "cannot import name 'imread'",
     "output_type": "error",
     "traceback": [
      "\u001b[0;31m---------------------------------------------------------------------------\u001b[0m",
      "\u001b[0;31mImportError\u001b[0m                               Traceback (most recent call last)",
      "\u001b[0;32m<ipython-input-53-f6591665da27>\u001b[0m in \u001b[0;36m<module>\u001b[0;34m\u001b[0m\n\u001b[0;32m----> 1\u001b[0;31m \u001b[0;32mfrom\u001b[0m \u001b[0mscipy\u001b[0m\u001b[0;34m.\u001b[0m\u001b[0mmisc\u001b[0m \u001b[0;32mimport\u001b[0m \u001b[0mimread\u001b[0m\u001b[0;34m,\u001b[0m \u001b[0mimsave\u001b[0m\u001b[0;34m,\u001b[0m \u001b[0mimresize\u001b[0m\u001b[0;34m\u001b[0m\u001b[0m\n\u001b[0m\u001b[1;32m      2\u001b[0m \u001b[0;34m\u001b[0m\u001b[0m\n\u001b[1;32m      3\u001b[0m \u001b[0mimg\u001b[0m \u001b[0;34m=\u001b[0m \u001b[0mimread\u001b[0m\u001b[0;34m(\u001b[0m\u001b[0;34m'./img/IMG_1889.JPG'\u001b[0m\u001b[0;34m)\u001b[0m\u001b[0;34m\u001b[0m\u001b[0m\n\u001b[1;32m      4\u001b[0m \u001b[0mprint\u001b[0m\u001b[0;34m(\u001b[0m\u001b[0mimg\u001b[0m\u001b[0;34m.\u001b[0m\u001b[0mdtype\u001b[0m\u001b[0;34m,\u001b[0m \u001b[0mimg\u001b[0m\u001b[0;34m.\u001b[0m\u001b[0mshape\u001b[0m\u001b[0;34m)\u001b[0m\u001b[0;34m\u001b[0m\u001b[0m\n\u001b[1;32m      5\u001b[0m \u001b[0;34m\u001b[0m\u001b[0m\n",
      "\u001b[0;31mImportError\u001b[0m: cannot import name 'imread'"
     ]
    }
   ],
   "source": [
    "from scipy.misc import imread, imsave, imresize\n",
    "\n",
    "img = imread('./img/IMG_1889.JPG')\n",
    "print(img.dtype, img.shape)\n",
    "\n",
    "img_tinted = img * [1, 0.95, 0.9]\n"
   ]
  },
  {
   "cell_type": "code",
   "execution_count": null,
   "metadata": {},
   "outputs": [],
   "source": []
  }
 ],
 "metadata": {
  "kernelspec": {
   "display_name": "Python (math)",
   "language": "python",
   "name": "math"
  },
  "language_info": {
   "codemirror_mode": {
    "name": "ipython",
    "version": 3
   },
   "file_extension": ".py",
   "mimetype": "text/x-python",
   "name": "python",
   "nbconvert_exporter": "python",
   "pygments_lexer": "ipython3",
   "version": "3.6.0"
  }
 },
 "nbformat": 4,
 "nbformat_minor": 2
}
